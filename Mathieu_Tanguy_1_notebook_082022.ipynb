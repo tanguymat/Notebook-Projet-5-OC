{
 "cells": [
  {
   "cell_type": "markdown",
   "id": "0cd16f9f",
   "metadata": {},
   "source": [
    "#                                     Notebook Bottleneck"
   ]
  },
  {
   "cell_type": "code",
   "execution_count": 1,
   "id": "5363fc7a",
   "metadata": {},
   "outputs": [],
   "source": [
    "import pandas as pd\n",
    "import numpy as np\n",
    "import matplotlib.pyplot as plt\n",
    "import scipy.stats as stats"
   ]
  },
  {
   "cell_type": "markdown",
   "id": "1723067c",
   "metadata": {},
   "source": [
    "# Question 1: Nettoyage des données et rapprochement des dossiers"
   ]
  },
  {
   "cell_type": "markdown",
   "id": "0d38518b",
   "metadata": {},
   "source": [
    "### chargement du dossier web en version excel"
   ]
  },
  {
   "cell_type": "code",
   "execution_count": 2,
   "id": "c1190f45",
   "metadata": {
    "scrolled": false
   },
   "outputs": [
    {
     "name": "stderr",
     "output_type": "stream",
     "text": [
      "C:\\Users\\tangu\\anaconda3\\lib\\site-packages\\openpyxl\\worksheet\\_reader.py:312: UserWarning: Unknown extension is not supported and will be removed\n",
      "  warn(msg)\n"
     ]
    },
    {
     "data": {
      "text/html": [
       "<div>\n",
       "<style scoped>\n",
       "    .dataframe tbody tr th:only-of-type {\n",
       "        vertical-align: middle;\n",
       "    }\n",
       "\n",
       "    .dataframe tbody tr th {\n",
       "        vertical-align: top;\n",
       "    }\n",
       "\n",
       "    .dataframe thead th {\n",
       "        text-align: right;\n",
       "    }\n",
       "</style>\n",
       "<table border=\"1\" class=\"dataframe\">\n",
       "  <thead>\n",
       "    <tr style=\"text-align: right;\">\n",
       "      <th></th>\n",
       "      <th>sku</th>\n",
       "      <th>virtual</th>\n",
       "      <th>downloadable</th>\n",
       "      <th>rating_count</th>\n",
       "      <th>average_rating</th>\n",
       "      <th>total_sales</th>\n",
       "      <th>tax_status</th>\n",
       "      <th>tax_class</th>\n",
       "      <th>post_author</th>\n",
       "      <th>post_date</th>\n",
       "      <th>...</th>\n",
       "      <th>post_name</th>\n",
       "      <th>post_modified</th>\n",
       "      <th>post_modified_gmt</th>\n",
       "      <th>post_content_filtered</th>\n",
       "      <th>post_parent</th>\n",
       "      <th>guid</th>\n",
       "      <th>menu_order</th>\n",
       "      <th>post_type</th>\n",
       "      <th>post_mime_type</th>\n",
       "      <th>comment_count</th>\n",
       "    </tr>\n",
       "  </thead>\n",
       "  <tbody>\n",
       "    <tr>\n",
       "      <th>0</th>\n",
       "      <td>bon-cadeau-25-euros</td>\n",
       "      <td>0</td>\n",
       "      <td>0</td>\n",
       "      <td>0</td>\n",
       "      <td>0.0</td>\n",
       "      <td>10.0</td>\n",
       "      <td>taxable</td>\n",
       "      <td>NaN</td>\n",
       "      <td>1.0</td>\n",
       "      <td>2018-06-01 13:53:46</td>\n",
       "      <td>...</td>\n",
       "      <td>bon-cadeau-de-25-euros</td>\n",
       "      <td>2018-06-01 14:13:57</td>\n",
       "      <td>2018-06-01 12:13:57</td>\n",
       "      <td>NaN</td>\n",
       "      <td>0.0</td>\n",
       "      <td>https://www.bottle-neck.fr/?post_type=product&amp;...</td>\n",
       "      <td>0.0</td>\n",
       "      <td>product</td>\n",
       "      <td>NaN</td>\n",
       "      <td>0.0</td>\n",
       "    </tr>\n",
       "    <tr>\n",
       "      <th>1</th>\n",
       "      <td>15298</td>\n",
       "      <td>0</td>\n",
       "      <td>0</td>\n",
       "      <td>0</td>\n",
       "      <td>0.0</td>\n",
       "      <td>6.0</td>\n",
       "      <td>taxable</td>\n",
       "      <td>NaN</td>\n",
       "      <td>2.0</td>\n",
       "      <td>2018-02-08 12:58:52</td>\n",
       "      <td>...</td>\n",
       "      <td>pierre-jean-villa-saint-joseph-preface-2018</td>\n",
       "      <td>2019-12-30 09:30:29</td>\n",
       "      <td>2019-12-30 08:30:29</td>\n",
       "      <td>NaN</td>\n",
       "      <td>0.0</td>\n",
       "      <td>https://www.bottle-neck.fr/?post_type=product&amp;...</td>\n",
       "      <td>0.0</td>\n",
       "      <td>product</td>\n",
       "      <td>NaN</td>\n",
       "      <td>0.0</td>\n",
       "    </tr>\n",
       "    <tr>\n",
       "      <th>2</th>\n",
       "      <td>15296</td>\n",
       "      <td>0</td>\n",
       "      <td>0</td>\n",
       "      <td>0</td>\n",
       "      <td>0.0</td>\n",
       "      <td>0.0</td>\n",
       "      <td>taxable</td>\n",
       "      <td>NaN</td>\n",
       "      <td>2.0</td>\n",
       "      <td>2018-02-08 13:49:41</td>\n",
       "      <td>...</td>\n",
       "      <td>pierre-jean-villa-saint-joseph-tilde-2017</td>\n",
       "      <td>2019-12-21 09:00:17</td>\n",
       "      <td>2019-12-21 08:00:17</td>\n",
       "      <td>NaN</td>\n",
       "      <td>0.0</td>\n",
       "      <td>https://www.bottle-neck.fr/?post_type=product&amp;...</td>\n",
       "      <td>0.0</td>\n",
       "      <td>product</td>\n",
       "      <td>NaN</td>\n",
       "      <td>0.0</td>\n",
       "    </tr>\n",
       "    <tr>\n",
       "      <th>3</th>\n",
       "      <td>15300</td>\n",
       "      <td>0</td>\n",
       "      <td>0</td>\n",
       "      <td>0</td>\n",
       "      <td>0.0</td>\n",
       "      <td>0.0</td>\n",
       "      <td>taxable</td>\n",
       "      <td>NaN</td>\n",
       "      <td>2.0</td>\n",
       "      <td>2018-02-08 14:08:36</td>\n",
       "      <td>...</td>\n",
       "      <td>pierre-jean-villa-croze-hermitage-accroche-coe...</td>\n",
       "      <td>2020-06-26 18:15:03</td>\n",
       "      <td>2020-06-26 16:15:03</td>\n",
       "      <td>NaN</td>\n",
       "      <td>0.0</td>\n",
       "      <td>https://www.bottle-neck.fr/?post_type=product&amp;...</td>\n",
       "      <td>0.0</td>\n",
       "      <td>product</td>\n",
       "      <td>NaN</td>\n",
       "      <td>0.0</td>\n",
       "    </tr>\n",
       "    <tr>\n",
       "      <th>4</th>\n",
       "      <td>19814</td>\n",
       "      <td>0</td>\n",
       "      <td>0</td>\n",
       "      <td>0</td>\n",
       "      <td>0.0</td>\n",
       "      <td>3.0</td>\n",
       "      <td>taxable</td>\n",
       "      <td>NaN</td>\n",
       "      <td>2.0</td>\n",
       "      <td>2018-02-09 14:01:05</td>\n",
       "      <td>...</td>\n",
       "      <td>pierre-jean-villa-igp-gamine-2018</td>\n",
       "      <td>2020-01-04 16:36:01</td>\n",
       "      <td>2020-01-04 15:36:01</td>\n",
       "      <td>NaN</td>\n",
       "      <td>0.0</td>\n",
       "      <td>https://www.bottle-neck.fr/?post_type=product&amp;...</td>\n",
       "      <td>0.0</td>\n",
       "      <td>product</td>\n",
       "      <td>NaN</td>\n",
       "      <td>0.0</td>\n",
       "    </tr>\n",
       "  </tbody>\n",
       "</table>\n",
       "<p>5 rows × 28 columns</p>\n",
       "</div>"
      ],
      "text/plain": [
       "                   sku  virtual  downloadable  rating_count  average_rating  \\\n",
       "0  bon-cadeau-25-euros        0             0             0             0.0   \n",
       "1                15298        0             0             0             0.0   \n",
       "2                15296        0             0             0             0.0   \n",
       "3                15300        0             0             0             0.0   \n",
       "4                19814        0             0             0             0.0   \n",
       "\n",
       "   total_sales tax_status  tax_class  post_author           post_date  ...  \\\n",
       "0         10.0    taxable        NaN          1.0 2018-06-01 13:53:46  ...   \n",
       "1          6.0    taxable        NaN          2.0 2018-02-08 12:58:52  ...   \n",
       "2          0.0    taxable        NaN          2.0 2018-02-08 13:49:41  ...   \n",
       "3          0.0    taxable        NaN          2.0 2018-02-08 14:08:36  ...   \n",
       "4          3.0    taxable        NaN          2.0 2018-02-09 14:01:05  ...   \n",
       "\n",
       "                                           post_name       post_modified  \\\n",
       "0                             bon-cadeau-de-25-euros 2018-06-01 14:13:57   \n",
       "1        pierre-jean-villa-saint-joseph-preface-2018 2019-12-30 09:30:29   \n",
       "2          pierre-jean-villa-saint-joseph-tilde-2017 2019-12-21 09:00:17   \n",
       "3  pierre-jean-villa-croze-hermitage-accroche-coe... 2020-06-26 18:15:03   \n",
       "4                  pierre-jean-villa-igp-gamine-2018 2020-01-04 16:36:01   \n",
       "\n",
       "    post_modified_gmt post_content_filtered post_parent  \\\n",
       "0 2018-06-01 12:13:57                   NaN         0.0   \n",
       "1 2019-12-30 08:30:29                   NaN         0.0   \n",
       "2 2019-12-21 08:00:17                   NaN         0.0   \n",
       "3 2020-06-26 16:15:03                   NaN         0.0   \n",
       "4 2020-01-04 15:36:01                   NaN         0.0   \n",
       "\n",
       "                                                guid menu_order  post_type  \\\n",
       "0  https://www.bottle-neck.fr/?post_type=product&...        0.0    product   \n",
       "1  https://www.bottle-neck.fr/?post_type=product&...        0.0    product   \n",
       "2  https://www.bottle-neck.fr/?post_type=product&...        0.0    product   \n",
       "3  https://www.bottle-neck.fr/?post_type=product&...        0.0    product   \n",
       "4  https://www.bottle-neck.fr/?post_type=product&...        0.0    product   \n",
       "\n",
       "  post_mime_type comment_count  \n",
       "0            NaN           0.0  \n",
       "1            NaN           0.0  \n",
       "2            NaN           0.0  \n",
       "3            NaN           0.0  \n",
       "4            NaN           0.0  \n",
       "\n",
       "[5 rows x 28 columns]"
      ]
     },
     "execution_count": 2,
     "metadata": {},
     "output_type": "execute_result"
    }
   ],
   "source": [
    "web = pd.read_excel('web.xlsx')\n",
    "web.head()"
   ]
  },
  {
   "cell_type": "markdown",
   "id": "b935e294",
   "metadata": {},
   "source": [
    "### renommage de la colonne sku par id_web"
   ]
  },
  {
   "cell_type": "code",
   "execution_count": 3,
   "id": "6848f4b4",
   "metadata": {
    "scrolled": false
   },
   "outputs": [
    {
     "data": {
      "text/html": [
       "<div>\n",
       "<style scoped>\n",
       "    .dataframe tbody tr th:only-of-type {\n",
       "        vertical-align: middle;\n",
       "    }\n",
       "\n",
       "    .dataframe tbody tr th {\n",
       "        vertical-align: top;\n",
       "    }\n",
       "\n",
       "    .dataframe thead th {\n",
       "        text-align: right;\n",
       "    }\n",
       "</style>\n",
       "<table border=\"1\" class=\"dataframe\">\n",
       "  <thead>\n",
       "    <tr style=\"text-align: right;\">\n",
       "      <th></th>\n",
       "      <th>id_web</th>\n",
       "      <th>virtual</th>\n",
       "      <th>downloadable</th>\n",
       "      <th>rating_count</th>\n",
       "      <th>average_rating</th>\n",
       "      <th>total_sales</th>\n",
       "      <th>tax_status</th>\n",
       "      <th>tax_class</th>\n",
       "      <th>post_author</th>\n",
       "      <th>post_date</th>\n",
       "      <th>...</th>\n",
       "      <th>post_name</th>\n",
       "      <th>post_modified</th>\n",
       "      <th>post_modified_gmt</th>\n",
       "      <th>post_content_filtered</th>\n",
       "      <th>post_parent</th>\n",
       "      <th>guid</th>\n",
       "      <th>menu_order</th>\n",
       "      <th>post_type</th>\n",
       "      <th>post_mime_type</th>\n",
       "      <th>comment_count</th>\n",
       "    </tr>\n",
       "  </thead>\n",
       "  <tbody>\n",
       "    <tr>\n",
       "      <th>0</th>\n",
       "      <td>bon-cadeau-25-euros</td>\n",
       "      <td>0</td>\n",
       "      <td>0</td>\n",
       "      <td>0</td>\n",
       "      <td>0.0</td>\n",
       "      <td>10.0</td>\n",
       "      <td>taxable</td>\n",
       "      <td>NaN</td>\n",
       "      <td>1.0</td>\n",
       "      <td>2018-06-01 13:53:46</td>\n",
       "      <td>...</td>\n",
       "      <td>bon-cadeau-de-25-euros</td>\n",
       "      <td>2018-06-01 14:13:57</td>\n",
       "      <td>2018-06-01 12:13:57</td>\n",
       "      <td>NaN</td>\n",
       "      <td>0.0</td>\n",
       "      <td>https://www.bottle-neck.fr/?post_type=product&amp;...</td>\n",
       "      <td>0.0</td>\n",
       "      <td>product</td>\n",
       "      <td>NaN</td>\n",
       "      <td>0.0</td>\n",
       "    </tr>\n",
       "    <tr>\n",
       "      <th>1</th>\n",
       "      <td>15298</td>\n",
       "      <td>0</td>\n",
       "      <td>0</td>\n",
       "      <td>0</td>\n",
       "      <td>0.0</td>\n",
       "      <td>6.0</td>\n",
       "      <td>taxable</td>\n",
       "      <td>NaN</td>\n",
       "      <td>2.0</td>\n",
       "      <td>2018-02-08 12:58:52</td>\n",
       "      <td>...</td>\n",
       "      <td>pierre-jean-villa-saint-joseph-preface-2018</td>\n",
       "      <td>2019-12-30 09:30:29</td>\n",
       "      <td>2019-12-30 08:30:29</td>\n",
       "      <td>NaN</td>\n",
       "      <td>0.0</td>\n",
       "      <td>https://www.bottle-neck.fr/?post_type=product&amp;...</td>\n",
       "      <td>0.0</td>\n",
       "      <td>product</td>\n",
       "      <td>NaN</td>\n",
       "      <td>0.0</td>\n",
       "    </tr>\n",
       "    <tr>\n",
       "      <th>2</th>\n",
       "      <td>15296</td>\n",
       "      <td>0</td>\n",
       "      <td>0</td>\n",
       "      <td>0</td>\n",
       "      <td>0.0</td>\n",
       "      <td>0.0</td>\n",
       "      <td>taxable</td>\n",
       "      <td>NaN</td>\n",
       "      <td>2.0</td>\n",
       "      <td>2018-02-08 13:49:41</td>\n",
       "      <td>...</td>\n",
       "      <td>pierre-jean-villa-saint-joseph-tilde-2017</td>\n",
       "      <td>2019-12-21 09:00:17</td>\n",
       "      <td>2019-12-21 08:00:17</td>\n",
       "      <td>NaN</td>\n",
       "      <td>0.0</td>\n",
       "      <td>https://www.bottle-neck.fr/?post_type=product&amp;...</td>\n",
       "      <td>0.0</td>\n",
       "      <td>product</td>\n",
       "      <td>NaN</td>\n",
       "      <td>0.0</td>\n",
       "    </tr>\n",
       "    <tr>\n",
       "      <th>3</th>\n",
       "      <td>15300</td>\n",
       "      <td>0</td>\n",
       "      <td>0</td>\n",
       "      <td>0</td>\n",
       "      <td>0.0</td>\n",
       "      <td>0.0</td>\n",
       "      <td>taxable</td>\n",
       "      <td>NaN</td>\n",
       "      <td>2.0</td>\n",
       "      <td>2018-02-08 14:08:36</td>\n",
       "      <td>...</td>\n",
       "      <td>pierre-jean-villa-croze-hermitage-accroche-coe...</td>\n",
       "      <td>2020-06-26 18:15:03</td>\n",
       "      <td>2020-06-26 16:15:03</td>\n",
       "      <td>NaN</td>\n",
       "      <td>0.0</td>\n",
       "      <td>https://www.bottle-neck.fr/?post_type=product&amp;...</td>\n",
       "      <td>0.0</td>\n",
       "      <td>product</td>\n",
       "      <td>NaN</td>\n",
       "      <td>0.0</td>\n",
       "    </tr>\n",
       "    <tr>\n",
       "      <th>4</th>\n",
       "      <td>19814</td>\n",
       "      <td>0</td>\n",
       "      <td>0</td>\n",
       "      <td>0</td>\n",
       "      <td>0.0</td>\n",
       "      <td>3.0</td>\n",
       "      <td>taxable</td>\n",
       "      <td>NaN</td>\n",
       "      <td>2.0</td>\n",
       "      <td>2018-02-09 14:01:05</td>\n",
       "      <td>...</td>\n",
       "      <td>pierre-jean-villa-igp-gamine-2018</td>\n",
       "      <td>2020-01-04 16:36:01</td>\n",
       "      <td>2020-01-04 15:36:01</td>\n",
       "      <td>NaN</td>\n",
       "      <td>0.0</td>\n",
       "      <td>https://www.bottle-neck.fr/?post_type=product&amp;...</td>\n",
       "      <td>0.0</td>\n",
       "      <td>product</td>\n",
       "      <td>NaN</td>\n",
       "      <td>0.0</td>\n",
       "    </tr>\n",
       "  </tbody>\n",
       "</table>\n",
       "<p>5 rows × 28 columns</p>\n",
       "</div>"
      ],
      "text/plain": [
       "                id_web  virtual  downloadable  rating_count  average_rating  \\\n",
       "0  bon-cadeau-25-euros        0             0             0             0.0   \n",
       "1                15298        0             0             0             0.0   \n",
       "2                15296        0             0             0             0.0   \n",
       "3                15300        0             0             0             0.0   \n",
       "4                19814        0             0             0             0.0   \n",
       "\n",
       "   total_sales tax_status  tax_class  post_author           post_date  ...  \\\n",
       "0         10.0    taxable        NaN          1.0 2018-06-01 13:53:46  ...   \n",
       "1          6.0    taxable        NaN          2.0 2018-02-08 12:58:52  ...   \n",
       "2          0.0    taxable        NaN          2.0 2018-02-08 13:49:41  ...   \n",
       "3          0.0    taxable        NaN          2.0 2018-02-08 14:08:36  ...   \n",
       "4          3.0    taxable        NaN          2.0 2018-02-09 14:01:05  ...   \n",
       "\n",
       "                                           post_name       post_modified  \\\n",
       "0                             bon-cadeau-de-25-euros 2018-06-01 14:13:57   \n",
       "1        pierre-jean-villa-saint-joseph-preface-2018 2019-12-30 09:30:29   \n",
       "2          pierre-jean-villa-saint-joseph-tilde-2017 2019-12-21 09:00:17   \n",
       "3  pierre-jean-villa-croze-hermitage-accroche-coe... 2020-06-26 18:15:03   \n",
       "4                  pierre-jean-villa-igp-gamine-2018 2020-01-04 16:36:01   \n",
       "\n",
       "    post_modified_gmt post_content_filtered post_parent  \\\n",
       "0 2018-06-01 12:13:57                   NaN         0.0   \n",
       "1 2019-12-30 08:30:29                   NaN         0.0   \n",
       "2 2019-12-21 08:00:17                   NaN         0.0   \n",
       "3 2020-06-26 16:15:03                   NaN         0.0   \n",
       "4 2020-01-04 15:36:01                   NaN         0.0   \n",
       "\n",
       "                                                guid menu_order  post_type  \\\n",
       "0  https://www.bottle-neck.fr/?post_type=product&...        0.0    product   \n",
       "1  https://www.bottle-neck.fr/?post_type=product&...        0.0    product   \n",
       "2  https://www.bottle-neck.fr/?post_type=product&...        0.0    product   \n",
       "3  https://www.bottle-neck.fr/?post_type=product&...        0.0    product   \n",
       "4  https://www.bottle-neck.fr/?post_type=product&...        0.0    product   \n",
       "\n",
       "  post_mime_type comment_count  \n",
       "0            NaN           0.0  \n",
       "1            NaN           0.0  \n",
       "2            NaN           0.0  \n",
       "3            NaN           0.0  \n",
       "4            NaN           0.0  \n",
       "\n",
       "[5 rows x 28 columns]"
      ]
     },
     "execution_count": 3,
     "metadata": {},
     "output_type": "execute_result"
    }
   ],
   "source": [
    "web.rename(columns={\"sku\":\"id_web\"},inplace=True)\n",
    "web.head()"
   ]
  },
  {
   "cell_type": "markdown",
   "id": "f55b9999",
   "metadata": {},
   "source": [
    "### suppression de certaines colonnes non pertinantes pour le projet"
   ]
  },
  {
   "cell_type": "code",
   "execution_count": 4,
   "id": "7df82e00",
   "metadata": {},
   "outputs": [
    {
     "data": {
      "text/html": [
       "<div>\n",
       "<style scoped>\n",
       "    .dataframe tbody tr th:only-of-type {\n",
       "        vertical-align: middle;\n",
       "    }\n",
       "\n",
       "    .dataframe tbody tr th {\n",
       "        vertical-align: top;\n",
       "    }\n",
       "\n",
       "    .dataframe thead th {\n",
       "        text-align: right;\n",
       "    }\n",
       "</style>\n",
       "<table border=\"1\" class=\"dataframe\">\n",
       "  <thead>\n",
       "    <tr style=\"text-align: right;\">\n",
       "      <th></th>\n",
       "      <th>id_web</th>\n",
       "      <th>total_sales</th>\n",
       "      <th>post_title</th>\n",
       "      <th>post_name</th>\n",
       "      <th>post_type</th>\n",
       "    </tr>\n",
       "  </thead>\n",
       "  <tbody>\n",
       "    <tr>\n",
       "      <th>0</th>\n",
       "      <td>bon-cadeau-25-euros</td>\n",
       "      <td>10.0</td>\n",
       "      <td>Bon cadeau de 25€</td>\n",
       "      <td>bon-cadeau-de-25-euros</td>\n",
       "      <td>product</td>\n",
       "    </tr>\n",
       "    <tr>\n",
       "      <th>1</th>\n",
       "      <td>15298</td>\n",
       "      <td>6.0</td>\n",
       "      <td>Pierre Jean Villa Saint-Joseph Préface 2018</td>\n",
       "      <td>pierre-jean-villa-saint-joseph-preface-2018</td>\n",
       "      <td>product</td>\n",
       "    </tr>\n",
       "    <tr>\n",
       "      <th>2</th>\n",
       "      <td>15296</td>\n",
       "      <td>0.0</td>\n",
       "      <td>Pierre Jean Villa Saint-Joseph Rouge Tildé 2017</td>\n",
       "      <td>pierre-jean-villa-saint-joseph-tilde-2017</td>\n",
       "      <td>product</td>\n",
       "    </tr>\n",
       "    <tr>\n",
       "      <th>3</th>\n",
       "      <td>15300</td>\n",
       "      <td>0.0</td>\n",
       "      <td>Pierre Jean Villa Crozes-Hermitage Accroche Co...</td>\n",
       "      <td>pierre-jean-villa-croze-hermitage-accroche-coe...</td>\n",
       "      <td>product</td>\n",
       "    </tr>\n",
       "    <tr>\n",
       "      <th>4</th>\n",
       "      <td>19814</td>\n",
       "      <td>3.0</td>\n",
       "      <td>Pierre Jean Villa IGP Collines Rhodaniennes Ga...</td>\n",
       "      <td>pierre-jean-villa-igp-gamine-2018</td>\n",
       "      <td>product</td>\n",
       "    </tr>\n",
       "  </tbody>\n",
       "</table>\n",
       "</div>"
      ],
      "text/plain": [
       "                id_web  total_sales  \\\n",
       "0  bon-cadeau-25-euros         10.0   \n",
       "1                15298          6.0   \n",
       "2                15296          0.0   \n",
       "3                15300          0.0   \n",
       "4                19814          3.0   \n",
       "\n",
       "                                          post_title  \\\n",
       "0                                  Bon cadeau de 25€   \n",
       "1        Pierre Jean Villa Saint-Joseph Préface 2018   \n",
       "2    Pierre Jean Villa Saint-Joseph Rouge Tildé 2017   \n",
       "3  Pierre Jean Villa Crozes-Hermitage Accroche Co...   \n",
       "4  Pierre Jean Villa IGP Collines Rhodaniennes Ga...   \n",
       "\n",
       "                                           post_name post_type  \n",
       "0                             bon-cadeau-de-25-euros   product  \n",
       "1        pierre-jean-villa-saint-joseph-preface-2018   product  \n",
       "2          pierre-jean-villa-saint-joseph-tilde-2017   product  \n",
       "3  pierre-jean-villa-croze-hermitage-accroche-coe...   product  \n",
       "4                  pierre-jean-villa-igp-gamine-2018   product  "
      ]
     },
     "execution_count": 4,
     "metadata": {},
     "output_type": "execute_result"
    }
   ],
   "source": [
    "web = web.drop(['virtual','downloadable','rating_count','average_rating','tax_status','tax_class','post_date'\n",
    "                ,'post_modified','post_modified_gmt','post_content_filtered','post_parent'\n",
    "                ,'guid','menu_order','post_content','post_date_gmt','comment_status','ping_status'\n",
    "                ,'post_password','post_mime_type','comment_count','post_author','post_status','post_excerpt'], axis=1)\n",
    "web.head()"
   ]
  },
  {
   "cell_type": "code",
   "execution_count": 5,
   "id": "932c1a10",
   "metadata": {
    "scrolled": false
   },
   "outputs": [
    {
     "data": {
      "text/html": [
       "<div>\n",
       "<style scoped>\n",
       "    .dataframe tbody tr th:only-of-type {\n",
       "        vertical-align: middle;\n",
       "    }\n",
       "\n",
       "    .dataframe tbody tr th {\n",
       "        vertical-align: top;\n",
       "    }\n",
       "\n",
       "    .dataframe thead th {\n",
       "        text-align: right;\n",
       "    }\n",
       "</style>\n",
       "<table border=\"1\" class=\"dataframe\">\n",
       "  <thead>\n",
       "    <tr style=\"text-align: right;\">\n",
       "      <th></th>\n",
       "      <th>id_web</th>\n",
       "      <th>total_sales</th>\n",
       "      <th>post_title</th>\n",
       "      <th>post_name</th>\n",
       "      <th>post_type</th>\n",
       "    </tr>\n",
       "  </thead>\n",
       "  <tbody>\n",
       "    <tr>\n",
       "      <th>count</th>\n",
       "      <td>1428</td>\n",
       "      <td>1430.000000</td>\n",
       "      <td>1430</td>\n",
       "      <td>1430</td>\n",
       "      <td>1430</td>\n",
       "    </tr>\n",
       "    <tr>\n",
       "      <th>unique</th>\n",
       "      <td>714</td>\n",
       "      <td>NaN</td>\n",
       "      <td>713</td>\n",
       "      <td>716</td>\n",
       "      <td>2</td>\n",
       "    </tr>\n",
       "    <tr>\n",
       "      <th>top</th>\n",
       "      <td>bon-cadeau-25-euros</td>\n",
       "      <td>NaN</td>\n",
       "      <td>Clos du Mont-Olivet Châteauneuf-du-Pape 2007</td>\n",
       "      <td>bon-cadeau-de-25-euros</td>\n",
       "      <td>product</td>\n",
       "    </tr>\n",
       "    <tr>\n",
       "      <th>freq</th>\n",
       "      <td>2</td>\n",
       "      <td>NaN</td>\n",
       "      <td>4</td>\n",
       "      <td>2</td>\n",
       "      <td>716</td>\n",
       "    </tr>\n",
       "    <tr>\n",
       "      <th>mean</th>\n",
       "      <td>NaN</td>\n",
       "      <td>4.006993</td>\n",
       "      <td>NaN</td>\n",
       "      <td>NaN</td>\n",
       "      <td>NaN</td>\n",
       "    </tr>\n",
       "    <tr>\n",
       "      <th>std</th>\n",
       "      <td>NaN</td>\n",
       "      <td>8.510559</td>\n",
       "      <td>NaN</td>\n",
       "      <td>NaN</td>\n",
       "      <td>NaN</td>\n",
       "    </tr>\n",
       "    <tr>\n",
       "      <th>min</th>\n",
       "      <td>NaN</td>\n",
       "      <td>0.000000</td>\n",
       "      <td>NaN</td>\n",
       "      <td>NaN</td>\n",
       "      <td>NaN</td>\n",
       "    </tr>\n",
       "    <tr>\n",
       "      <th>25%</th>\n",
       "      <td>NaN</td>\n",
       "      <td>0.000000</td>\n",
       "      <td>NaN</td>\n",
       "      <td>NaN</td>\n",
       "      <td>NaN</td>\n",
       "    </tr>\n",
       "    <tr>\n",
       "      <th>50%</th>\n",
       "      <td>NaN</td>\n",
       "      <td>1.000000</td>\n",
       "      <td>NaN</td>\n",
       "      <td>NaN</td>\n",
       "      <td>NaN</td>\n",
       "    </tr>\n",
       "    <tr>\n",
       "      <th>75%</th>\n",
       "      <td>NaN</td>\n",
       "      <td>4.000000</td>\n",
       "      <td>NaN</td>\n",
       "      <td>NaN</td>\n",
       "      <td>NaN</td>\n",
       "    </tr>\n",
       "    <tr>\n",
       "      <th>max</th>\n",
       "      <td>NaN</td>\n",
       "      <td>96.000000</td>\n",
       "      <td>NaN</td>\n",
       "      <td>NaN</td>\n",
       "      <td>NaN</td>\n",
       "    </tr>\n",
       "  </tbody>\n",
       "</table>\n",
       "</div>"
      ],
      "text/plain": [
       "                     id_web  total_sales  \\\n",
       "count                  1428  1430.000000   \n",
       "unique                  714          NaN   \n",
       "top     bon-cadeau-25-euros          NaN   \n",
       "freq                      2          NaN   \n",
       "mean                    NaN     4.006993   \n",
       "std                     NaN     8.510559   \n",
       "min                     NaN     0.000000   \n",
       "25%                     NaN     0.000000   \n",
       "50%                     NaN     1.000000   \n",
       "75%                     NaN     4.000000   \n",
       "max                     NaN    96.000000   \n",
       "\n",
       "                                          post_title               post_name  \\\n",
       "count                                           1430                    1430   \n",
       "unique                                           713                     716   \n",
       "top     Clos du Mont-Olivet Châteauneuf-du-Pape 2007  bon-cadeau-de-25-euros   \n",
       "freq                                               4                       2   \n",
       "mean                                             NaN                     NaN   \n",
       "std                                              NaN                     NaN   \n",
       "min                                              NaN                     NaN   \n",
       "25%                                              NaN                     NaN   \n",
       "50%                                              NaN                     NaN   \n",
       "75%                                              NaN                     NaN   \n",
       "max                                              NaN                     NaN   \n",
       "\n",
       "       post_type  \n",
       "count       1430  \n",
       "unique         2  \n",
       "top      product  \n",
       "freq         716  \n",
       "mean         NaN  \n",
       "std          NaN  \n",
       "min          NaN  \n",
       "25%          NaN  \n",
       "50%          NaN  \n",
       "75%          NaN  \n",
       "max          NaN  "
      ]
     },
     "execution_count": 5,
     "metadata": {},
     "output_type": "execute_result"
    }
   ],
   "source": [
    "web.describe(include='all')"
   ]
  },
  {
   "cell_type": "code",
   "execution_count": 6,
   "id": "28e17054",
   "metadata": {
    "scrolled": true
   },
   "outputs": [
    {
     "name": "stdout",
     "output_type": "stream",
     "text": [
      "<class 'pandas.core.frame.DataFrame'>\n",
      "RangeIndex: 1513 entries, 0 to 1512\n",
      "Data columns (total 5 columns):\n",
      " #   Column       Non-Null Count  Dtype  \n",
      "---  ------       --------------  -----  \n",
      " 0   id_web       1428 non-null   object \n",
      " 1   total_sales  1430 non-null   float64\n",
      " 2   post_title   1430 non-null   object \n",
      " 3   post_name    1430 non-null   object \n",
      " 4   post_type    1430 non-null   object \n",
      "dtypes: float64(1), object(4)\n",
      "memory usage: 59.2+ KB\n"
     ]
    }
   ],
   "source": [
    "web.info()"
   ]
  },
  {
   "cell_type": "markdown",
   "id": "7d861ab6",
   "metadata": {},
   "source": [
    "### calcul de la somme des valeurs nulles dans le dossier web"
   ]
  },
  {
   "cell_type": "code",
   "execution_count": 7,
   "id": "343bcf14",
   "metadata": {
    "scrolled": true
   },
   "outputs": [
    {
     "name": "stdout",
     "output_type": "stream",
     "text": [
      "id_web         85\n",
      "total_sales    83\n",
      "post_title     83\n",
      "post_name      83\n",
      "post_type      83\n",
      "dtype: int64\n"
     ]
    }
   ],
   "source": [
    "print(web.isnull().sum())"
   ]
  },
  {
   "cell_type": "markdown",
   "id": "08536b2d",
   "metadata": {},
   "source": [
    "### recherche des doublons dans le dossier web"
   ]
  },
  {
   "cell_type": "code",
   "execution_count": 8,
   "id": "5791a0de",
   "metadata": {
    "scrolled": false
   },
   "outputs": [
    {
     "data": {
      "text/html": [
       "<div>\n",
       "<style scoped>\n",
       "    .dataframe tbody tr th:only-of-type {\n",
       "        vertical-align: middle;\n",
       "    }\n",
       "\n",
       "    .dataframe tbody tr th {\n",
       "        vertical-align: top;\n",
       "    }\n",
       "\n",
       "    .dataframe thead th {\n",
       "        text-align: right;\n",
       "    }\n",
       "</style>\n",
       "<table border=\"1\" class=\"dataframe\">\n",
       "  <thead>\n",
       "    <tr style=\"text-align: right;\">\n",
       "      <th></th>\n",
       "      <th>id_web</th>\n",
       "      <th>total_sales</th>\n",
       "      <th>post_title</th>\n",
       "      <th>post_name</th>\n",
       "      <th>post_type</th>\n",
       "    </tr>\n",
       "  </thead>\n",
       "  <tbody>\n",
       "    <tr>\n",
       "      <th>179</th>\n",
       "      <td>NaN</td>\n",
       "      <td>NaN</td>\n",
       "      <td>NaN</td>\n",
       "      <td>NaN</td>\n",
       "      <td>NaN</td>\n",
       "    </tr>\n",
       "    <tr>\n",
       "      <th>227</th>\n",
       "      <td>NaN</td>\n",
       "      <td>NaN</td>\n",
       "      <td>NaN</td>\n",
       "      <td>NaN</td>\n",
       "      <td>NaN</td>\n",
       "    </tr>\n",
       "    <tr>\n",
       "      <th>230</th>\n",
       "      <td>NaN</td>\n",
       "      <td>NaN</td>\n",
       "      <td>NaN</td>\n",
       "      <td>NaN</td>\n",
       "      <td>NaN</td>\n",
       "    </tr>\n",
       "    <tr>\n",
       "      <th>231</th>\n",
       "      <td>NaN</td>\n",
       "      <td>NaN</td>\n",
       "      <td>NaN</td>\n",
       "      <td>NaN</td>\n",
       "      <td>NaN</td>\n",
       "    </tr>\n",
       "    <tr>\n",
       "      <th>233</th>\n",
       "      <td>NaN</td>\n",
       "      <td>NaN</td>\n",
       "      <td>NaN</td>\n",
       "      <td>NaN</td>\n",
       "      <td>NaN</td>\n",
       "    </tr>\n",
       "    <tr>\n",
       "      <th>...</th>\n",
       "      <td>...</td>\n",
       "      <td>...</td>\n",
       "      <td>...</td>\n",
       "      <td>...</td>\n",
       "      <td>...</td>\n",
       "    </tr>\n",
       "    <tr>\n",
       "      <th>1508</th>\n",
       "      <td>16135</td>\n",
       "      <td>5.0</td>\n",
       "      <td>Mouthes Le Bihan Côtes de Duras L'Aimé Chai 2015</td>\n",
       "      <td>mouthes-le-bihan-aime-chai-2015</td>\n",
       "      <td>attachment</td>\n",
       "    </tr>\n",
       "    <tr>\n",
       "      <th>1509</th>\n",
       "      <td>15891</td>\n",
       "      <td>0.0</td>\n",
       "      <td>Camin Larredya Jurançon Sec La Virada 2018</td>\n",
       "      <td>camin-larredya-jurancon-sec-la-virada-2018</td>\n",
       "      <td>attachment</td>\n",
       "    </tr>\n",
       "    <tr>\n",
       "      <th>1510</th>\n",
       "      <td>15887</td>\n",
       "      <td>0.0</td>\n",
       "      <td>Domaine Jamet Côte Rôtie Fructus Voluptas 2018</td>\n",
       "      <td>jamet-cote-rotie-fructus-voluptas-2018</td>\n",
       "      <td>attachment</td>\n",
       "    </tr>\n",
       "    <tr>\n",
       "      <th>1511</th>\n",
       "      <td>13127-1</td>\n",
       "      <td>0.0</td>\n",
       "      <td>Clos du Mont-Olivet Châteauneuf-du-Pape 2007</td>\n",
       "      <td>clos-du-mont-olivet-chateauneuf-du-pape-2007-2</td>\n",
       "      <td>attachment</td>\n",
       "    </tr>\n",
       "    <tr>\n",
       "      <th>1512</th>\n",
       "      <td>16230</td>\n",
       "      <td>0.0</td>\n",
       "      <td>Domaine Saint-Nicolas Vin de France Blanc Les ...</td>\n",
       "      <td>domaine-saint-nicolas-fiefs-vendeens-blanc-les...</td>\n",
       "      <td>attachment</td>\n",
       "    </tr>\n",
       "  </tbody>\n",
       "</table>\n",
       "<p>798 rows × 5 columns</p>\n",
       "</div>"
      ],
      "text/plain": [
       "       id_web  total_sales                                         post_title  \\\n",
       "179       NaN          NaN                                                NaN   \n",
       "227       NaN          NaN                                                NaN   \n",
       "230       NaN          NaN                                                NaN   \n",
       "231       NaN          NaN                                                NaN   \n",
       "233       NaN          NaN                                                NaN   \n",
       "...       ...          ...                                                ...   \n",
       "1508    16135          5.0   Mouthes Le Bihan Côtes de Duras L'Aimé Chai 2015   \n",
       "1509    15891          0.0         Camin Larredya Jurançon Sec La Virada 2018   \n",
       "1510    15887          0.0     Domaine Jamet Côte Rôtie Fructus Voluptas 2018   \n",
       "1511  13127-1          0.0       Clos du Mont-Olivet Châteauneuf-du-Pape 2007   \n",
       "1512    16230          0.0  Domaine Saint-Nicolas Vin de France Blanc Les ...   \n",
       "\n",
       "                                              post_name   post_type  \n",
       "179                                                 NaN         NaN  \n",
       "227                                                 NaN         NaN  \n",
       "230                                                 NaN         NaN  \n",
       "231                                                 NaN         NaN  \n",
       "233                                                 NaN         NaN  \n",
       "...                                                 ...         ...  \n",
       "1508                    mouthes-le-bihan-aime-chai-2015  attachment  \n",
       "1509         camin-larredya-jurancon-sec-la-virada-2018  attachment  \n",
       "1510             jamet-cote-rotie-fructus-voluptas-2018  attachment  \n",
       "1511     clos-du-mont-olivet-chateauneuf-du-pape-2007-2  attachment  \n",
       "1512  domaine-saint-nicolas-fiefs-vendeens-blanc-les...  attachment  \n",
       "\n",
       "[798 rows x 5 columns]"
      ]
     },
     "execution_count": 8,
     "metadata": {},
     "output_type": "execute_result"
    }
   ],
   "source": [
    "duplicate_web = web[web.duplicated('id_web')]\n",
    "duplicate_web"
   ]
  },
  {
   "cell_type": "markdown",
   "id": "d3e4fe67",
   "metadata": {},
   "source": [
    "### suppression des doublons en ne conservant que le premier doublons de chaque"
   ]
  },
  {
   "cell_type": "code",
   "execution_count": 9,
   "id": "8d9261ab",
   "metadata": {},
   "outputs": [],
   "source": [
    "web.drop_duplicates(subset = 'id_web',keep = 'first', inplace=True)"
   ]
  },
  {
   "cell_type": "code",
   "execution_count": 10,
   "id": "232eb222",
   "metadata": {},
   "outputs": [
    {
     "name": "stdout",
     "output_type": "stream",
     "text": [
      "<class 'pandas.core.frame.DataFrame'>\n",
      "Int64Index: 715 entries, 0 to 798\n",
      "Data columns (total 5 columns):\n",
      " #   Column       Non-Null Count  Dtype  \n",
      "---  ------       --------------  -----  \n",
      " 0   id_web       714 non-null    object \n",
      " 1   total_sales  714 non-null    float64\n",
      " 2   post_title   714 non-null    object \n",
      " 3   post_name    714 non-null    object \n",
      " 4   post_type    714 non-null    object \n",
      "dtypes: float64(1), object(4)\n",
      "memory usage: 33.5+ KB\n"
     ]
    }
   ],
   "source": [
    "web.info()"
   ]
  },
  {
   "cell_type": "markdown",
   "id": "635435c4",
   "metadata": {},
   "source": [
    "### vérification du nombre de valeur unique dans 'id_web'"
   ]
  },
  {
   "cell_type": "code",
   "execution_count": 11,
   "id": "12c8beb9",
   "metadata": {
    "scrolled": false
   },
   "outputs": [
    {
     "data": {
      "text/plain": [
       "715"
      ]
     },
     "execution_count": 11,
     "metadata": {},
     "output_type": "execute_result"
    }
   ],
   "source": [
    "web_unique = len(pd.unique(web['id_web']))\n",
    "web_unique"
   ]
  },
  {
   "cell_type": "markdown",
   "id": "f7ab38e4",
   "metadata": {},
   "source": [
    "# chargement du dossier liaison"
   ]
  },
  {
   "cell_type": "code",
   "execution_count": 12,
   "id": "9664e5be",
   "metadata": {
    "scrolled": false
   },
   "outputs": [
    {
     "name": "stderr",
     "output_type": "stream",
     "text": [
      "C:\\Users\\tangu\\anaconda3\\lib\\site-packages\\openpyxl\\worksheet\\_reader.py:312: UserWarning: Unknown extension is not supported and will be removed\n",
      "  warn(msg)\n"
     ]
    },
    {
     "data": {
      "text/html": [
       "<div>\n",
       "<style scoped>\n",
       "    .dataframe tbody tr th:only-of-type {\n",
       "        vertical-align: middle;\n",
       "    }\n",
       "\n",
       "    .dataframe tbody tr th {\n",
       "        vertical-align: top;\n",
       "    }\n",
       "\n",
       "    .dataframe thead th {\n",
       "        text-align: right;\n",
       "    }\n",
       "</style>\n",
       "<table border=\"1\" class=\"dataframe\">\n",
       "  <thead>\n",
       "    <tr style=\"text-align: right;\">\n",
       "      <th></th>\n",
       "      <th>product_id</th>\n",
       "      <th>id_web</th>\n",
       "    </tr>\n",
       "  </thead>\n",
       "  <tbody>\n",
       "    <tr>\n",
       "      <th>0</th>\n",
       "      <td>3847</td>\n",
       "      <td>15298</td>\n",
       "    </tr>\n",
       "    <tr>\n",
       "      <th>1</th>\n",
       "      <td>3849</td>\n",
       "      <td>15296</td>\n",
       "    </tr>\n",
       "    <tr>\n",
       "      <th>2</th>\n",
       "      <td>3850</td>\n",
       "      <td>15300</td>\n",
       "    </tr>\n",
       "    <tr>\n",
       "      <th>3</th>\n",
       "      <td>4032</td>\n",
       "      <td>19814</td>\n",
       "    </tr>\n",
       "    <tr>\n",
       "      <th>4</th>\n",
       "      <td>4039</td>\n",
       "      <td>19815</td>\n",
       "    </tr>\n",
       "    <tr>\n",
       "      <th>...</th>\n",
       "      <td>...</td>\n",
       "      <td>...</td>\n",
       "    </tr>\n",
       "    <tr>\n",
       "      <th>820</th>\n",
       "      <td>7203</td>\n",
       "      <td>NaN</td>\n",
       "    </tr>\n",
       "    <tr>\n",
       "      <th>821</th>\n",
       "      <td>7204</td>\n",
       "      <td>NaN</td>\n",
       "    </tr>\n",
       "    <tr>\n",
       "      <th>822</th>\n",
       "      <td>7247</td>\n",
       "      <td>13127-1</td>\n",
       "    </tr>\n",
       "    <tr>\n",
       "      <th>823</th>\n",
       "      <td>7329</td>\n",
       "      <td>14680-1</td>\n",
       "    </tr>\n",
       "    <tr>\n",
       "      <th>824</th>\n",
       "      <td>7338</td>\n",
       "      <td>16230</td>\n",
       "    </tr>\n",
       "  </tbody>\n",
       "</table>\n",
       "<p>825 rows × 2 columns</p>\n",
       "</div>"
      ],
      "text/plain": [
       "     product_id   id_web\n",
       "0          3847    15298\n",
       "1          3849    15296\n",
       "2          3850    15300\n",
       "3          4032    19814\n",
       "4          4039    19815\n",
       "..          ...      ...\n",
       "820        7203      NaN\n",
       "821        7204      NaN\n",
       "822        7247  13127-1\n",
       "823        7329  14680-1\n",
       "824        7338    16230\n",
       "\n",
       "[825 rows x 2 columns]"
      ]
     },
     "execution_count": 12,
     "metadata": {},
     "output_type": "execute_result"
    }
   ],
   "source": [
    "liaison = pd.read_excel('liaison.xlsx')\n",
    "liaison"
   ]
  },
  {
   "cell_type": "code",
   "execution_count": 13,
   "id": "0bc014b9",
   "metadata": {
    "scrolled": true
   },
   "outputs": [
    {
     "data": {
      "text/html": [
       "<div>\n",
       "<style scoped>\n",
       "    .dataframe tbody tr th:only-of-type {\n",
       "        vertical-align: middle;\n",
       "    }\n",
       "\n",
       "    .dataframe tbody tr th {\n",
       "        vertical-align: top;\n",
       "    }\n",
       "\n",
       "    .dataframe thead th {\n",
       "        text-align: right;\n",
       "    }\n",
       "</style>\n",
       "<table border=\"1\" class=\"dataframe\">\n",
       "  <thead>\n",
       "    <tr style=\"text-align: right;\">\n",
       "      <th></th>\n",
       "      <th>product_id</th>\n",
       "      <th>id_web</th>\n",
       "    </tr>\n",
       "  </thead>\n",
       "  <tbody>\n",
       "    <tr>\n",
       "      <th>count</th>\n",
       "      <td>825.000000</td>\n",
       "      <td>734.0</td>\n",
       "    </tr>\n",
       "    <tr>\n",
       "      <th>unique</th>\n",
       "      <td>NaN</td>\n",
       "      <td>734.0</td>\n",
       "    </tr>\n",
       "    <tr>\n",
       "      <th>top</th>\n",
       "      <td>NaN</td>\n",
       "      <td>15298.0</td>\n",
       "    </tr>\n",
       "    <tr>\n",
       "      <th>freq</th>\n",
       "      <td>NaN</td>\n",
       "      <td>1.0</td>\n",
       "    </tr>\n",
       "    <tr>\n",
       "      <th>mean</th>\n",
       "      <td>5162.597576</td>\n",
       "      <td>NaN</td>\n",
       "    </tr>\n",
       "    <tr>\n",
       "      <th>std</th>\n",
       "      <td>902.644635</td>\n",
       "      <td>NaN</td>\n",
       "    </tr>\n",
       "    <tr>\n",
       "      <th>min</th>\n",
       "      <td>3847.000000</td>\n",
       "      <td>NaN</td>\n",
       "    </tr>\n",
       "    <tr>\n",
       "      <th>25%</th>\n",
       "      <td>4348.000000</td>\n",
       "      <td>NaN</td>\n",
       "    </tr>\n",
       "    <tr>\n",
       "      <th>50%</th>\n",
       "      <td>4907.000000</td>\n",
       "      <td>NaN</td>\n",
       "    </tr>\n",
       "    <tr>\n",
       "      <th>75%</th>\n",
       "      <td>5805.000000</td>\n",
       "      <td>NaN</td>\n",
       "    </tr>\n",
       "    <tr>\n",
       "      <th>max</th>\n",
       "      <td>7338.000000</td>\n",
       "      <td>NaN</td>\n",
       "    </tr>\n",
       "  </tbody>\n",
       "</table>\n",
       "</div>"
      ],
      "text/plain": [
       "         product_id   id_web\n",
       "count    825.000000    734.0\n",
       "unique          NaN    734.0\n",
       "top             NaN  15298.0\n",
       "freq            NaN      1.0\n",
       "mean    5162.597576      NaN\n",
       "std      902.644635      NaN\n",
       "min     3847.000000      NaN\n",
       "25%     4348.000000      NaN\n",
       "50%     4907.000000      NaN\n",
       "75%     5805.000000      NaN\n",
       "max     7338.000000      NaN"
      ]
     },
     "execution_count": 13,
     "metadata": {},
     "output_type": "execute_result"
    }
   ],
   "source": [
    "liaison.describe(include='all')"
   ]
  },
  {
   "cell_type": "code",
   "execution_count": 14,
   "id": "57cb1549",
   "metadata": {
    "scrolled": false
   },
   "outputs": [
    {
     "name": "stdout",
     "output_type": "stream",
     "text": [
      "<class 'pandas.core.frame.DataFrame'>\n",
      "RangeIndex: 825 entries, 0 to 824\n",
      "Data columns (total 2 columns):\n",
      " #   Column      Non-Null Count  Dtype \n",
      "---  ------      --------------  ----- \n",
      " 0   product_id  825 non-null    int64 \n",
      " 1   id_web      734 non-null    object\n",
      "dtypes: int64(1), object(1)\n",
      "memory usage: 13.0+ KB\n"
     ]
    }
   ],
   "source": [
    "liaison.info()"
   ]
  },
  {
   "cell_type": "markdown",
   "id": "542e20e2",
   "metadata": {},
   "source": [
    "### suppression des valeurs NaN dans la colonne 'id_web'"
   ]
  },
  {
   "cell_type": "code",
   "execution_count": 15,
   "id": "1df7b8aa",
   "metadata": {
    "scrolled": false
   },
   "outputs": [
    {
     "data": {
      "text/html": [
       "<div>\n",
       "<style scoped>\n",
       "    .dataframe tbody tr th:only-of-type {\n",
       "        vertical-align: middle;\n",
       "    }\n",
       "\n",
       "    .dataframe tbody tr th {\n",
       "        vertical-align: top;\n",
       "    }\n",
       "\n",
       "    .dataframe thead th {\n",
       "        text-align: right;\n",
       "    }\n",
       "</style>\n",
       "<table border=\"1\" class=\"dataframe\">\n",
       "  <thead>\n",
       "    <tr style=\"text-align: right;\">\n",
       "      <th></th>\n",
       "      <th>product_id</th>\n",
       "      <th>id_web</th>\n",
       "    </tr>\n",
       "  </thead>\n",
       "  <tbody>\n",
       "    <tr>\n",
       "      <th>0</th>\n",
       "      <td>3847</td>\n",
       "      <td>15298</td>\n",
       "    </tr>\n",
       "    <tr>\n",
       "      <th>1</th>\n",
       "      <td>3849</td>\n",
       "      <td>15296</td>\n",
       "    </tr>\n",
       "    <tr>\n",
       "      <th>2</th>\n",
       "      <td>3850</td>\n",
       "      <td>15300</td>\n",
       "    </tr>\n",
       "    <tr>\n",
       "      <th>3</th>\n",
       "      <td>4032</td>\n",
       "      <td>19814</td>\n",
       "    </tr>\n",
       "    <tr>\n",
       "      <th>4</th>\n",
       "      <td>4039</td>\n",
       "      <td>19815</td>\n",
       "    </tr>\n",
       "    <tr>\n",
       "      <th>...</th>\n",
       "      <td>...</td>\n",
       "      <td>...</td>\n",
       "    </tr>\n",
       "    <tr>\n",
       "      <th>792</th>\n",
       "      <td>7023</td>\n",
       "      <td>15891</td>\n",
       "    </tr>\n",
       "    <tr>\n",
       "      <th>793</th>\n",
       "      <td>7025</td>\n",
       "      <td>15887</td>\n",
       "    </tr>\n",
       "    <tr>\n",
       "      <th>822</th>\n",
       "      <td>7247</td>\n",
       "      <td>13127-1</td>\n",
       "    </tr>\n",
       "    <tr>\n",
       "      <th>823</th>\n",
       "      <td>7329</td>\n",
       "      <td>14680-1</td>\n",
       "    </tr>\n",
       "    <tr>\n",
       "      <th>824</th>\n",
       "      <td>7338</td>\n",
       "      <td>16230</td>\n",
       "    </tr>\n",
       "  </tbody>\n",
       "</table>\n",
       "<p>734 rows × 2 columns</p>\n",
       "</div>"
      ],
      "text/plain": [
       "     product_id   id_web\n",
       "0          3847    15298\n",
       "1          3849    15296\n",
       "2          3850    15300\n",
       "3          4032    19814\n",
       "4          4039    19815\n",
       "..          ...      ...\n",
       "792        7023    15891\n",
       "793        7025    15887\n",
       "822        7247  13127-1\n",
       "823        7329  14680-1\n",
       "824        7338    16230\n",
       "\n",
       "[734 rows x 2 columns]"
      ]
     },
     "execution_count": 15,
     "metadata": {},
     "output_type": "execute_result"
    }
   ],
   "source": [
    "liaison = liaison.dropna(subset=['id_web'])\n",
    "liaison"
   ]
  },
  {
   "cell_type": "markdown",
   "id": "685582e0",
   "metadata": {},
   "source": [
    "### comptage des id_web unique dans le dossier liaison"
   ]
  },
  {
   "cell_type": "code",
   "execution_count": 16,
   "id": "ab582edc",
   "metadata": {},
   "outputs": [
    {
     "data": {
      "text/plain": [
       "734"
      ]
     },
     "execution_count": 16,
     "metadata": {},
     "output_type": "execute_result"
    }
   ],
   "source": [
    "liaison_unique = len(pd.unique(liaison['id_web']))\n",
    "liaison_unique"
   ]
  },
  {
   "cell_type": "markdown",
   "id": "72d70615",
   "metadata": {},
   "source": [
    "### véification des valeurs nulles dans le dossier liaison"
   ]
  },
  {
   "cell_type": "code",
   "execution_count": 17,
   "id": "0285224f",
   "metadata": {
    "scrolled": true
   },
   "outputs": [
    {
     "name": "stdout",
     "output_type": "stream",
     "text": [
      "product_id    0\n",
      "id_web        0\n",
      "dtype: int64\n"
     ]
    }
   ],
   "source": [
    "print(liaison.isnull().sum())"
   ]
  },
  {
   "cell_type": "markdown",
   "id": "0528118c",
   "metadata": {},
   "source": [
    "### recherche des doublons dans le dossier liaison"
   ]
  },
  {
   "cell_type": "code",
   "execution_count": 18,
   "id": "87f47b0e",
   "metadata": {
    "scrolled": false
   },
   "outputs": [
    {
     "data": {
      "text/html": [
       "<div>\n",
       "<style scoped>\n",
       "    .dataframe tbody tr th:only-of-type {\n",
       "        vertical-align: middle;\n",
       "    }\n",
       "\n",
       "    .dataframe tbody tr th {\n",
       "        vertical-align: top;\n",
       "    }\n",
       "\n",
       "    .dataframe thead th {\n",
       "        text-align: right;\n",
       "    }\n",
       "</style>\n",
       "<table border=\"1\" class=\"dataframe\">\n",
       "  <thead>\n",
       "    <tr style=\"text-align: right;\">\n",
       "      <th></th>\n",
       "      <th>product_id</th>\n",
       "      <th>id_web</th>\n",
       "    </tr>\n",
       "  </thead>\n",
       "  <tbody>\n",
       "  </tbody>\n",
       "</table>\n",
       "</div>"
      ],
      "text/plain": [
       "Empty DataFrame\n",
       "Columns: [product_id, id_web]\n",
       "Index: []"
      ]
     },
     "execution_count": 18,
     "metadata": {},
     "output_type": "execute_result"
    }
   ],
   "source": [
    "duplicate_web = liaison[liaison.duplicated()]\n",
    "duplicate_web"
   ]
  },
  {
   "cell_type": "code",
   "execution_count": 19,
   "id": "e05f1456",
   "metadata": {
    "scrolled": true
   },
   "outputs": [
    {
     "name": "stdout",
     "output_type": "stream",
     "text": [
      "<class 'pandas.core.frame.DataFrame'>\n",
      "Int64Index: 734 entries, 0 to 824\n",
      "Data columns (total 2 columns):\n",
      " #   Column      Non-Null Count  Dtype \n",
      "---  ------      --------------  ----- \n",
      " 0   product_id  734 non-null    int64 \n",
      " 1   id_web      734 non-null    object\n",
      "dtypes: int64(1), object(1)\n",
      "memory usage: 17.2+ KB\n"
     ]
    }
   ],
   "source": [
    "liaison.info()"
   ]
  },
  {
   "cell_type": "markdown",
   "id": "cf4221c2",
   "metadata": {},
   "source": [
    "# jointure externe des tableaux web et liaision par la colonne 'id_web'"
   ]
  },
  {
   "cell_type": "code",
   "execution_count": 20,
   "id": "39ce1bb6",
   "metadata": {},
   "outputs": [
    {
     "data": {
      "text/html": [
       "<div>\n",
       "<style scoped>\n",
       "    .dataframe tbody tr th:only-of-type {\n",
       "        vertical-align: middle;\n",
       "    }\n",
       "\n",
       "    .dataframe tbody tr th {\n",
       "        vertical-align: top;\n",
       "    }\n",
       "\n",
       "    .dataframe thead th {\n",
       "        text-align: right;\n",
       "    }\n",
       "</style>\n",
       "<table border=\"1\" class=\"dataframe\">\n",
       "  <thead>\n",
       "    <tr style=\"text-align: right;\">\n",
       "      <th></th>\n",
       "      <th>id_web</th>\n",
       "      <th>total_sales</th>\n",
       "      <th>post_title</th>\n",
       "      <th>post_name</th>\n",
       "      <th>post_type</th>\n",
       "      <th>product_id</th>\n",
       "    </tr>\n",
       "  </thead>\n",
       "  <tbody>\n",
       "    <tr>\n",
       "      <th>0</th>\n",
       "      <td>bon-cadeau-25-euros</td>\n",
       "      <td>10.0</td>\n",
       "      <td>Bon cadeau de 25€</td>\n",
       "      <td>bon-cadeau-de-25-euros</td>\n",
       "      <td>product</td>\n",
       "      <td>4954.0</td>\n",
       "    </tr>\n",
       "    <tr>\n",
       "      <th>1</th>\n",
       "      <td>15298</td>\n",
       "      <td>6.0</td>\n",
       "      <td>Pierre Jean Villa Saint-Joseph Préface 2018</td>\n",
       "      <td>pierre-jean-villa-saint-joseph-preface-2018</td>\n",
       "      <td>product</td>\n",
       "      <td>3847.0</td>\n",
       "    </tr>\n",
       "    <tr>\n",
       "      <th>2</th>\n",
       "      <td>15296</td>\n",
       "      <td>0.0</td>\n",
       "      <td>Pierre Jean Villa Saint-Joseph Rouge Tildé 2017</td>\n",
       "      <td>pierre-jean-villa-saint-joseph-tilde-2017</td>\n",
       "      <td>product</td>\n",
       "      <td>3849.0</td>\n",
       "    </tr>\n",
       "    <tr>\n",
       "      <th>3</th>\n",
       "      <td>15300</td>\n",
       "      <td>0.0</td>\n",
       "      <td>Pierre Jean Villa Crozes-Hermitage Accroche Co...</td>\n",
       "      <td>pierre-jean-villa-croze-hermitage-accroche-coe...</td>\n",
       "      <td>product</td>\n",
       "      <td>3850.0</td>\n",
       "    </tr>\n",
       "    <tr>\n",
       "      <th>4</th>\n",
       "      <td>19814</td>\n",
       "      <td>3.0</td>\n",
       "      <td>Pierre Jean Villa IGP Collines Rhodaniennes Ga...</td>\n",
       "      <td>pierre-jean-villa-igp-gamine-2018</td>\n",
       "      <td>product</td>\n",
       "      <td>4032.0</td>\n",
       "    </tr>\n",
       "    <tr>\n",
       "      <th>...</th>\n",
       "      <td>...</td>\n",
       "      <td>...</td>\n",
       "      <td>...</td>\n",
       "      <td>...</td>\n",
       "      <td>...</td>\n",
       "      <td>...</td>\n",
       "    </tr>\n",
       "    <tr>\n",
       "      <th>730</th>\n",
       "      <td>15609</td>\n",
       "      <td>NaN</td>\n",
       "      <td>NaN</td>\n",
       "      <td>NaN</td>\n",
       "      <td>NaN</td>\n",
       "      <td>5954.0</td>\n",
       "    </tr>\n",
       "    <tr>\n",
       "      <th>731</th>\n",
       "      <td>14377</td>\n",
       "      <td>NaN</td>\n",
       "      <td>NaN</td>\n",
       "      <td>NaN</td>\n",
       "      <td>NaN</td>\n",
       "      <td>5955.0</td>\n",
       "    </tr>\n",
       "    <tr>\n",
       "      <th>732</th>\n",
       "      <td>13577</td>\n",
       "      <td>NaN</td>\n",
       "      <td>NaN</td>\n",
       "      <td>NaN</td>\n",
       "      <td>NaN</td>\n",
       "      <td>5957.0</td>\n",
       "    </tr>\n",
       "    <tr>\n",
       "      <th>733</th>\n",
       "      <td>15529</td>\n",
       "      <td>NaN</td>\n",
       "      <td>NaN</td>\n",
       "      <td>NaN</td>\n",
       "      <td>NaN</td>\n",
       "      <td>6100.0</td>\n",
       "    </tr>\n",
       "    <tr>\n",
       "      <th>734</th>\n",
       "      <td>14680-1</td>\n",
       "      <td>NaN</td>\n",
       "      <td>NaN</td>\n",
       "      <td>NaN</td>\n",
       "      <td>NaN</td>\n",
       "      <td>7329.0</td>\n",
       "    </tr>\n",
       "  </tbody>\n",
       "</table>\n",
       "<p>735 rows × 6 columns</p>\n",
       "</div>"
      ],
      "text/plain": [
       "                  id_web  total_sales  \\\n",
       "0    bon-cadeau-25-euros         10.0   \n",
       "1                  15298          6.0   \n",
       "2                  15296          0.0   \n",
       "3                  15300          0.0   \n",
       "4                  19814          3.0   \n",
       "..                   ...          ...   \n",
       "730                15609          NaN   \n",
       "731                14377          NaN   \n",
       "732                13577          NaN   \n",
       "733                15529          NaN   \n",
       "734              14680-1          NaN   \n",
       "\n",
       "                                            post_title  \\\n",
       "0                                    Bon cadeau de 25€   \n",
       "1          Pierre Jean Villa Saint-Joseph Préface 2018   \n",
       "2      Pierre Jean Villa Saint-Joseph Rouge Tildé 2017   \n",
       "3    Pierre Jean Villa Crozes-Hermitage Accroche Co...   \n",
       "4    Pierre Jean Villa IGP Collines Rhodaniennes Ga...   \n",
       "..                                                 ...   \n",
       "730                                                NaN   \n",
       "731                                                NaN   \n",
       "732                                                NaN   \n",
       "733                                                NaN   \n",
       "734                                                NaN   \n",
       "\n",
       "                                             post_name post_type  product_id  \n",
       "0                               bon-cadeau-de-25-euros   product      4954.0  \n",
       "1          pierre-jean-villa-saint-joseph-preface-2018   product      3847.0  \n",
       "2            pierre-jean-villa-saint-joseph-tilde-2017   product      3849.0  \n",
       "3    pierre-jean-villa-croze-hermitage-accroche-coe...   product      3850.0  \n",
       "4                    pierre-jean-villa-igp-gamine-2018   product      4032.0  \n",
       "..                                                 ...       ...         ...  \n",
       "730                                                NaN       NaN      5954.0  \n",
       "731                                                NaN       NaN      5955.0  \n",
       "732                                                NaN       NaN      5957.0  \n",
       "733                                                NaN       NaN      6100.0  \n",
       "734                                                NaN       NaN      7329.0  \n",
       "\n",
       "[735 rows x 6 columns]"
      ]
     },
     "execution_count": 20,
     "metadata": {},
     "output_type": "execute_result"
    }
   ],
   "source": [
    "df1 = pd.merge(web,liaison, on='id_web', how='outer')\n",
    "df1"
   ]
  },
  {
   "cell_type": "markdown",
   "id": "9435fa40",
   "metadata": {},
   "source": [
    "### suppression des valeurs NaN dans la colonne 'total_sales'"
   ]
  },
  {
   "cell_type": "code",
   "execution_count": 21,
   "id": "305d8b19",
   "metadata": {},
   "outputs": [
    {
     "data": {
      "text/html": [
       "<div>\n",
       "<style scoped>\n",
       "    .dataframe tbody tr th:only-of-type {\n",
       "        vertical-align: middle;\n",
       "    }\n",
       "\n",
       "    .dataframe tbody tr th {\n",
       "        vertical-align: top;\n",
       "    }\n",
       "\n",
       "    .dataframe thead th {\n",
       "        text-align: right;\n",
       "    }\n",
       "</style>\n",
       "<table border=\"1\" class=\"dataframe\">\n",
       "  <thead>\n",
       "    <tr style=\"text-align: right;\">\n",
       "      <th></th>\n",
       "      <th>id_web</th>\n",
       "      <th>total_sales</th>\n",
       "      <th>post_title</th>\n",
       "      <th>post_name</th>\n",
       "      <th>post_type</th>\n",
       "      <th>product_id</th>\n",
       "    </tr>\n",
       "  </thead>\n",
       "  <tbody>\n",
       "    <tr>\n",
       "      <th>0</th>\n",
       "      <td>bon-cadeau-25-euros</td>\n",
       "      <td>10.0</td>\n",
       "      <td>Bon cadeau de 25€</td>\n",
       "      <td>bon-cadeau-de-25-euros</td>\n",
       "      <td>product</td>\n",
       "      <td>4954.0</td>\n",
       "    </tr>\n",
       "    <tr>\n",
       "      <th>1</th>\n",
       "      <td>15298</td>\n",
       "      <td>6.0</td>\n",
       "      <td>Pierre Jean Villa Saint-Joseph Préface 2018</td>\n",
       "      <td>pierre-jean-villa-saint-joseph-preface-2018</td>\n",
       "      <td>product</td>\n",
       "      <td>3847.0</td>\n",
       "    </tr>\n",
       "    <tr>\n",
       "      <th>2</th>\n",
       "      <td>15296</td>\n",
       "      <td>0.0</td>\n",
       "      <td>Pierre Jean Villa Saint-Joseph Rouge Tildé 2017</td>\n",
       "      <td>pierre-jean-villa-saint-joseph-tilde-2017</td>\n",
       "      <td>product</td>\n",
       "      <td>3849.0</td>\n",
       "    </tr>\n",
       "    <tr>\n",
       "      <th>3</th>\n",
       "      <td>15300</td>\n",
       "      <td>0.0</td>\n",
       "      <td>Pierre Jean Villa Crozes-Hermitage Accroche Co...</td>\n",
       "      <td>pierre-jean-villa-croze-hermitage-accroche-coe...</td>\n",
       "      <td>product</td>\n",
       "      <td>3850.0</td>\n",
       "    </tr>\n",
       "    <tr>\n",
       "      <th>4</th>\n",
       "      <td>19814</td>\n",
       "      <td>3.0</td>\n",
       "      <td>Pierre Jean Villa IGP Collines Rhodaniennes Ga...</td>\n",
       "      <td>pierre-jean-villa-igp-gamine-2018</td>\n",
       "      <td>product</td>\n",
       "      <td>4032.0</td>\n",
       "    </tr>\n",
       "    <tr>\n",
       "      <th>...</th>\n",
       "      <td>...</td>\n",
       "      <td>...</td>\n",
       "      <td>...</td>\n",
       "      <td>...</td>\n",
       "      <td>...</td>\n",
       "      <td>...</td>\n",
       "    </tr>\n",
       "    <tr>\n",
       "      <th>710</th>\n",
       "      <td>16135</td>\n",
       "      <td>5.0</td>\n",
       "      <td>Mouthes Le Bihan Côtes de Duras L'Aimé Chai 2015</td>\n",
       "      <td>mouthes-le-bihan-aime-chai-2015</td>\n",
       "      <td>product</td>\n",
       "      <td>6930.0</td>\n",
       "    </tr>\n",
       "    <tr>\n",
       "      <th>711</th>\n",
       "      <td>15891</td>\n",
       "      <td>0.0</td>\n",
       "      <td>Camin Larredya Jurançon Sec La Virada 2018</td>\n",
       "      <td>camin-larredya-jurancon-sec-la-virada-2018</td>\n",
       "      <td>product</td>\n",
       "      <td>7023.0</td>\n",
       "    </tr>\n",
       "    <tr>\n",
       "      <th>712</th>\n",
       "      <td>15887</td>\n",
       "      <td>0.0</td>\n",
       "      <td>Domaine Jamet Côte Rôtie Fructus Voluptas 2018</td>\n",
       "      <td>jamet-cote-rotie-fructus-voluptas-2018</td>\n",
       "      <td>product</td>\n",
       "      <td>7025.0</td>\n",
       "    </tr>\n",
       "    <tr>\n",
       "      <th>713</th>\n",
       "      <td>13127-1</td>\n",
       "      <td>0.0</td>\n",
       "      <td>Clos du Mont-Olivet Châteauneuf-du-Pape 2007</td>\n",
       "      <td>clos-du-mont-olivet-chateauneuf-du-pape-2007-2</td>\n",
       "      <td>product</td>\n",
       "      <td>7247.0</td>\n",
       "    </tr>\n",
       "    <tr>\n",
       "      <th>714</th>\n",
       "      <td>16230</td>\n",
       "      <td>0.0</td>\n",
       "      <td>Domaine Saint-Nicolas Vin de France Blanc Les ...</td>\n",
       "      <td>domaine-saint-nicolas-fiefs-vendeens-blanc-les...</td>\n",
       "      <td>product</td>\n",
       "      <td>7338.0</td>\n",
       "    </tr>\n",
       "  </tbody>\n",
       "</table>\n",
       "<p>714 rows × 6 columns</p>\n",
       "</div>"
      ],
      "text/plain": [
       "                  id_web  total_sales  \\\n",
       "0    bon-cadeau-25-euros         10.0   \n",
       "1                  15298          6.0   \n",
       "2                  15296          0.0   \n",
       "3                  15300          0.0   \n",
       "4                  19814          3.0   \n",
       "..                   ...          ...   \n",
       "710                16135          5.0   \n",
       "711                15891          0.0   \n",
       "712                15887          0.0   \n",
       "713              13127-1          0.0   \n",
       "714                16230          0.0   \n",
       "\n",
       "                                            post_title  \\\n",
       "0                                    Bon cadeau de 25€   \n",
       "1          Pierre Jean Villa Saint-Joseph Préface 2018   \n",
       "2      Pierre Jean Villa Saint-Joseph Rouge Tildé 2017   \n",
       "3    Pierre Jean Villa Crozes-Hermitage Accroche Co...   \n",
       "4    Pierre Jean Villa IGP Collines Rhodaniennes Ga...   \n",
       "..                                                 ...   \n",
       "710   Mouthes Le Bihan Côtes de Duras L'Aimé Chai 2015   \n",
       "711         Camin Larredya Jurançon Sec La Virada 2018   \n",
       "712     Domaine Jamet Côte Rôtie Fructus Voluptas 2018   \n",
       "713       Clos du Mont-Olivet Châteauneuf-du-Pape 2007   \n",
       "714  Domaine Saint-Nicolas Vin de France Blanc Les ...   \n",
       "\n",
       "                                             post_name post_type  product_id  \n",
       "0                               bon-cadeau-de-25-euros   product      4954.0  \n",
       "1          pierre-jean-villa-saint-joseph-preface-2018   product      3847.0  \n",
       "2            pierre-jean-villa-saint-joseph-tilde-2017   product      3849.0  \n",
       "3    pierre-jean-villa-croze-hermitage-accroche-coe...   product      3850.0  \n",
       "4                    pierre-jean-villa-igp-gamine-2018   product      4032.0  \n",
       "..                                                 ...       ...         ...  \n",
       "710                    mouthes-le-bihan-aime-chai-2015   product      6930.0  \n",
       "711         camin-larredya-jurancon-sec-la-virada-2018   product      7023.0  \n",
       "712             jamet-cote-rotie-fructus-voluptas-2018   product      7025.0  \n",
       "713     clos-du-mont-olivet-chateauneuf-du-pape-2007-2   product      7247.0  \n",
       "714  domaine-saint-nicolas-fiefs-vendeens-blanc-les...   product      7338.0  \n",
       "\n",
       "[714 rows x 6 columns]"
      ]
     },
     "execution_count": 21,
     "metadata": {},
     "output_type": "execute_result"
    }
   ],
   "source": [
    "df1 = df1.dropna(subset=['total_sales'])\n",
    "df1"
   ]
  },
  {
   "cell_type": "markdown",
   "id": "64d8e4d8",
   "metadata": {},
   "source": [
    "# chargement du dossier erp"
   ]
  },
  {
   "cell_type": "code",
   "execution_count": 22,
   "id": "e4054dc6",
   "metadata": {
    "scrolled": false
   },
   "outputs": [
    {
     "name": "stderr",
     "output_type": "stream",
     "text": [
      "C:\\Users\\tangu\\anaconda3\\lib\\site-packages\\openpyxl\\worksheet\\_reader.py:312: UserWarning: Unknown extension is not supported and will be removed\n",
      "  warn(msg)\n"
     ]
    },
    {
     "data": {
      "text/html": [
       "<div>\n",
       "<style scoped>\n",
       "    .dataframe tbody tr th:only-of-type {\n",
       "        vertical-align: middle;\n",
       "    }\n",
       "\n",
       "    .dataframe tbody tr th {\n",
       "        vertical-align: top;\n",
       "    }\n",
       "\n",
       "    .dataframe thead th {\n",
       "        text-align: right;\n",
       "    }\n",
       "</style>\n",
       "<table border=\"1\" class=\"dataframe\">\n",
       "  <thead>\n",
       "    <tr style=\"text-align: right;\">\n",
       "      <th></th>\n",
       "      <th>product_id</th>\n",
       "      <th>onsale_web</th>\n",
       "      <th>price</th>\n",
       "      <th>stock_quantity</th>\n",
       "      <th>stock_status</th>\n",
       "    </tr>\n",
       "  </thead>\n",
       "  <tbody>\n",
       "    <tr>\n",
       "      <th>0</th>\n",
       "      <td>3847</td>\n",
       "      <td>1</td>\n",
       "      <td>24.2</td>\n",
       "      <td>0</td>\n",
       "      <td>outofstock</td>\n",
       "    </tr>\n",
       "    <tr>\n",
       "      <th>1</th>\n",
       "      <td>3849</td>\n",
       "      <td>1</td>\n",
       "      <td>34.3</td>\n",
       "      <td>0</td>\n",
       "      <td>outofstock</td>\n",
       "    </tr>\n",
       "    <tr>\n",
       "      <th>2</th>\n",
       "      <td>3850</td>\n",
       "      <td>1</td>\n",
       "      <td>20.8</td>\n",
       "      <td>0</td>\n",
       "      <td>outofstock</td>\n",
       "    </tr>\n",
       "    <tr>\n",
       "      <th>3</th>\n",
       "      <td>4032</td>\n",
       "      <td>1</td>\n",
       "      <td>14.1</td>\n",
       "      <td>0</td>\n",
       "      <td>outofstock</td>\n",
       "    </tr>\n",
       "    <tr>\n",
       "      <th>4</th>\n",
       "      <td>4039</td>\n",
       "      <td>1</td>\n",
       "      <td>46.0</td>\n",
       "      <td>0</td>\n",
       "      <td>outofstock</td>\n",
       "    </tr>\n",
       "    <tr>\n",
       "      <th>...</th>\n",
       "      <td>...</td>\n",
       "      <td>...</td>\n",
       "      <td>...</td>\n",
       "      <td>...</td>\n",
       "      <td>...</td>\n",
       "    </tr>\n",
       "    <tr>\n",
       "      <th>820</th>\n",
       "      <td>7203</td>\n",
       "      <td>0</td>\n",
       "      <td>45.0</td>\n",
       "      <td>30</td>\n",
       "      <td>instock</td>\n",
       "    </tr>\n",
       "    <tr>\n",
       "      <th>821</th>\n",
       "      <td>7204</td>\n",
       "      <td>0</td>\n",
       "      <td>45.0</td>\n",
       "      <td>9</td>\n",
       "      <td>instock</td>\n",
       "    </tr>\n",
       "    <tr>\n",
       "      <th>822</th>\n",
       "      <td>7247</td>\n",
       "      <td>1</td>\n",
       "      <td>54.8</td>\n",
       "      <td>23</td>\n",
       "      <td>instock</td>\n",
       "    </tr>\n",
       "    <tr>\n",
       "      <th>823</th>\n",
       "      <td>7329</td>\n",
       "      <td>0</td>\n",
       "      <td>26.5</td>\n",
       "      <td>14</td>\n",
       "      <td>instock</td>\n",
       "    </tr>\n",
       "    <tr>\n",
       "      <th>824</th>\n",
       "      <td>7338</td>\n",
       "      <td>1</td>\n",
       "      <td>16.3</td>\n",
       "      <td>45</td>\n",
       "      <td>instock</td>\n",
       "    </tr>\n",
       "  </tbody>\n",
       "</table>\n",
       "<p>825 rows × 5 columns</p>\n",
       "</div>"
      ],
      "text/plain": [
       "     product_id  onsale_web  price  stock_quantity stock_status\n",
       "0          3847           1   24.2               0   outofstock\n",
       "1          3849           1   34.3               0   outofstock\n",
       "2          3850           1   20.8               0   outofstock\n",
       "3          4032           1   14.1               0   outofstock\n",
       "4          4039           1   46.0               0   outofstock\n",
       "..          ...         ...    ...             ...          ...\n",
       "820        7203           0   45.0              30      instock\n",
       "821        7204           0   45.0               9      instock\n",
       "822        7247           1   54.8              23      instock\n",
       "823        7329           0   26.5              14      instock\n",
       "824        7338           1   16.3              45      instock\n",
       "\n",
       "[825 rows x 5 columns]"
      ]
     },
     "execution_count": 22,
     "metadata": {},
     "output_type": "execute_result"
    }
   ],
   "source": [
    "erp = pd.read_excel('erp.xlsx')\n",
    "erp"
   ]
  },
  {
   "cell_type": "markdown",
   "id": "a93463b1",
   "metadata": {},
   "source": [
    "### vérification du nombre de valeurs unique dans la colonne 'product_id'"
   ]
  },
  {
   "cell_type": "code",
   "execution_count": 23,
   "id": "1c55fea6",
   "metadata": {},
   "outputs": [
    {
     "name": "stdout",
     "output_type": "stream",
     "text": [
      "825\n"
     ]
    }
   ],
   "source": [
    "print(len(erp['product_id'].unique()))"
   ]
  },
  {
   "cell_type": "code",
   "execution_count": 24,
   "id": "0d5f543f",
   "metadata": {},
   "outputs": [
    {
     "data": {
      "text/html": [
       "<div>\n",
       "<style scoped>\n",
       "    .dataframe tbody tr th:only-of-type {\n",
       "        vertical-align: middle;\n",
       "    }\n",
       "\n",
       "    .dataframe tbody tr th {\n",
       "        vertical-align: top;\n",
       "    }\n",
       "\n",
       "    .dataframe thead th {\n",
       "        text-align: right;\n",
       "    }\n",
       "</style>\n",
       "<table border=\"1\" class=\"dataframe\">\n",
       "  <thead>\n",
       "    <tr style=\"text-align: right;\">\n",
       "      <th></th>\n",
       "      <th>product_id</th>\n",
       "      <th>onsale_web</th>\n",
       "      <th>price</th>\n",
       "      <th>stock_quantity</th>\n",
       "      <th>stock_status</th>\n",
       "    </tr>\n",
       "  </thead>\n",
       "  <tbody>\n",
       "    <tr>\n",
       "      <th>count</th>\n",
       "      <td>825.000000</td>\n",
       "      <td>825.000000</td>\n",
       "      <td>825.000000</td>\n",
       "      <td>825.000000</td>\n",
       "      <td>825</td>\n",
       "    </tr>\n",
       "    <tr>\n",
       "      <th>unique</th>\n",
       "      <td>NaN</td>\n",
       "      <td>NaN</td>\n",
       "      <td>NaN</td>\n",
       "      <td>NaN</td>\n",
       "      <td>2</td>\n",
       "    </tr>\n",
       "    <tr>\n",
       "      <th>top</th>\n",
       "      <td>NaN</td>\n",
       "      <td>NaN</td>\n",
       "      <td>NaN</td>\n",
       "      <td>NaN</td>\n",
       "      <td>instock</td>\n",
       "    </tr>\n",
       "    <tr>\n",
       "      <th>freq</th>\n",
       "      <td>NaN</td>\n",
       "      <td>NaN</td>\n",
       "      <td>NaN</td>\n",
       "      <td>NaN</td>\n",
       "      <td>638</td>\n",
       "    </tr>\n",
       "    <tr>\n",
       "      <th>mean</th>\n",
       "      <td>5162.597576</td>\n",
       "      <td>0.869091</td>\n",
       "      <td>32.415636</td>\n",
       "      <td>26.496970</td>\n",
       "      <td>NaN</td>\n",
       "    </tr>\n",
       "    <tr>\n",
       "      <th>std</th>\n",
       "      <td>902.644635</td>\n",
       "      <td>0.337506</td>\n",
       "      <td>26.795849</td>\n",
       "      <td>45.892422</td>\n",
       "      <td>NaN</td>\n",
       "    </tr>\n",
       "    <tr>\n",
       "      <th>min</th>\n",
       "      <td>3847.000000</td>\n",
       "      <td>0.000000</td>\n",
       "      <td>5.200000</td>\n",
       "      <td>0.000000</td>\n",
       "      <td>NaN</td>\n",
       "    </tr>\n",
       "    <tr>\n",
       "      <th>25%</th>\n",
       "      <td>4348.000000</td>\n",
       "      <td>1.000000</td>\n",
       "      <td>14.600000</td>\n",
       "      <td>1.000000</td>\n",
       "      <td>NaN</td>\n",
       "    </tr>\n",
       "    <tr>\n",
       "      <th>50%</th>\n",
       "      <td>4907.000000</td>\n",
       "      <td>1.000000</td>\n",
       "      <td>24.400000</td>\n",
       "      <td>11.000000</td>\n",
       "      <td>NaN</td>\n",
       "    </tr>\n",
       "    <tr>\n",
       "      <th>75%</th>\n",
       "      <td>5805.000000</td>\n",
       "      <td>1.000000</td>\n",
       "      <td>42.000000</td>\n",
       "      <td>34.000000</td>\n",
       "      <td>NaN</td>\n",
       "    </tr>\n",
       "    <tr>\n",
       "      <th>max</th>\n",
       "      <td>7338.000000</td>\n",
       "      <td>1.000000</td>\n",
       "      <td>225.000000</td>\n",
       "      <td>578.000000</td>\n",
       "      <td>NaN</td>\n",
       "    </tr>\n",
       "  </tbody>\n",
       "</table>\n",
       "</div>"
      ],
      "text/plain": [
       "         product_id  onsale_web       price  stock_quantity stock_status\n",
       "count    825.000000  825.000000  825.000000      825.000000          825\n",
       "unique          NaN         NaN         NaN             NaN            2\n",
       "top             NaN         NaN         NaN             NaN      instock\n",
       "freq            NaN         NaN         NaN             NaN          638\n",
       "mean    5162.597576    0.869091   32.415636       26.496970          NaN\n",
       "std      902.644635    0.337506   26.795849       45.892422          NaN\n",
       "min     3847.000000    0.000000    5.200000        0.000000          NaN\n",
       "25%     4348.000000    1.000000   14.600000        1.000000          NaN\n",
       "50%     4907.000000    1.000000   24.400000       11.000000          NaN\n",
       "75%     5805.000000    1.000000   42.000000       34.000000          NaN\n",
       "max     7338.000000    1.000000  225.000000      578.000000          NaN"
      ]
     },
     "execution_count": 24,
     "metadata": {},
     "output_type": "execute_result"
    }
   ],
   "source": [
    "erp.describe(include='all')"
   ]
  },
  {
   "cell_type": "code",
   "execution_count": 25,
   "id": "f2567c91",
   "metadata": {
    "scrolled": true
   },
   "outputs": [
    {
     "name": "stdout",
     "output_type": "stream",
     "text": [
      "<class 'pandas.core.frame.DataFrame'>\n",
      "RangeIndex: 825 entries, 0 to 824\n",
      "Data columns (total 5 columns):\n",
      " #   Column          Non-Null Count  Dtype  \n",
      "---  ------          --------------  -----  \n",
      " 0   product_id      825 non-null    int64  \n",
      " 1   onsale_web      825 non-null    int64  \n",
      " 2   price           825 non-null    float64\n",
      " 3   stock_quantity  825 non-null    int64  \n",
      " 4   stock_status    825 non-null    object \n",
      "dtypes: float64(1), int64(3), object(1)\n",
      "memory usage: 32.4+ KB\n"
     ]
    }
   ],
   "source": [
    "erp.info()"
   ]
  },
  {
   "cell_type": "markdown",
   "id": "47519132",
   "metadata": {},
   "source": [
    "### recherche si valeurs nulles dans le dossier erp"
   ]
  },
  {
   "cell_type": "code",
   "execution_count": 26,
   "id": "6d1f62fc",
   "metadata": {
    "scrolled": true
   },
   "outputs": [
    {
     "name": "stdout",
     "output_type": "stream",
     "text": [
      "product_id        0\n",
      "onsale_web        0\n",
      "price             0\n",
      "stock_quantity    0\n",
      "stock_status      0\n",
      "dtype: int64\n"
     ]
    }
   ],
   "source": [
    "print(erp.isnull().sum())"
   ]
  },
  {
   "cell_type": "code",
   "execution_count": 27,
   "id": "00559a95",
   "metadata": {
    "scrolled": false
   },
   "outputs": [
    {
     "name": "stdout",
     "output_type": "stream",
     "text": [
      "product_id        0\n",
      "onsale_web        0\n",
      "price             0\n",
      "stock_quantity    0\n",
      "stock_status      0\n",
      "dtype: int64\n"
     ]
    }
   ],
   "source": [
    "print(erp.isna().sum())"
   ]
  },
  {
   "cell_type": "markdown",
   "id": "84234459",
   "metadata": {},
   "source": [
    "### recherche des doublons dans le dossier erp"
   ]
  },
  {
   "cell_type": "code",
   "execution_count": 28,
   "id": "dfcc9fbf",
   "metadata": {
    "scrolled": true
   },
   "outputs": [
    {
     "data": {
      "text/html": [
       "<div>\n",
       "<style scoped>\n",
       "    .dataframe tbody tr th:only-of-type {\n",
       "        vertical-align: middle;\n",
       "    }\n",
       "\n",
       "    .dataframe tbody tr th {\n",
       "        vertical-align: top;\n",
       "    }\n",
       "\n",
       "    .dataframe thead th {\n",
       "        text-align: right;\n",
       "    }\n",
       "</style>\n",
       "<table border=\"1\" class=\"dataframe\">\n",
       "  <thead>\n",
       "    <tr style=\"text-align: right;\">\n",
       "      <th></th>\n",
       "      <th>product_id</th>\n",
       "      <th>onsale_web</th>\n",
       "      <th>price</th>\n",
       "      <th>stock_quantity</th>\n",
       "      <th>stock_status</th>\n",
       "    </tr>\n",
       "  </thead>\n",
       "  <tbody>\n",
       "  </tbody>\n",
       "</table>\n",
       "</div>"
      ],
      "text/plain": [
       "Empty DataFrame\n",
       "Columns: [product_id, onsale_web, price, stock_quantity, stock_status]\n",
       "Index: []"
      ]
     },
     "execution_count": 28,
     "metadata": {},
     "output_type": "execute_result"
    }
   ],
   "source": [
    "duplicate_erp = erp[erp.duplicated()]\n",
    "duplicate_erp"
   ]
  },
  {
   "cell_type": "markdown",
   "id": "f72d6160",
   "metadata": {},
   "source": [
    "# jointure à gauche entre les tableaux df1 et erp par la colonne 'product_id'"
   ]
  },
  {
   "cell_type": "code",
   "execution_count": 29,
   "id": "51de53cc",
   "metadata": {
    "scrolled": false
   },
   "outputs": [
    {
     "data": {
      "text/html": [
       "<div>\n",
       "<style scoped>\n",
       "    .dataframe tbody tr th:only-of-type {\n",
       "        vertical-align: middle;\n",
       "    }\n",
       "\n",
       "    .dataframe tbody tr th {\n",
       "        vertical-align: top;\n",
       "    }\n",
       "\n",
       "    .dataframe thead th {\n",
       "        text-align: right;\n",
       "    }\n",
       "</style>\n",
       "<table border=\"1\" class=\"dataframe\">\n",
       "  <thead>\n",
       "    <tr style=\"text-align: right;\">\n",
       "      <th></th>\n",
       "      <th>id_web</th>\n",
       "      <th>total_sales</th>\n",
       "      <th>post_title</th>\n",
       "      <th>post_name</th>\n",
       "      <th>post_type</th>\n",
       "      <th>product_id</th>\n",
       "      <th>onsale_web</th>\n",
       "      <th>price</th>\n",
       "      <th>stock_quantity</th>\n",
       "      <th>stock_status</th>\n",
       "      <th>_merge</th>\n",
       "    </tr>\n",
       "  </thead>\n",
       "  <tbody>\n",
       "    <tr>\n",
       "      <th>0</th>\n",
       "      <td>bon-cadeau-25-euros</td>\n",
       "      <td>10.0</td>\n",
       "      <td>Bon cadeau de 25€</td>\n",
       "      <td>bon-cadeau-de-25-euros</td>\n",
       "      <td>product</td>\n",
       "      <td>4954.0</td>\n",
       "      <td>1</td>\n",
       "      <td>25.0</td>\n",
       "      <td>0</td>\n",
       "      <td>instock</td>\n",
       "      <td>both</td>\n",
       "    </tr>\n",
       "    <tr>\n",
       "      <th>1</th>\n",
       "      <td>15298</td>\n",
       "      <td>6.0</td>\n",
       "      <td>Pierre Jean Villa Saint-Joseph Préface 2018</td>\n",
       "      <td>pierre-jean-villa-saint-joseph-preface-2018</td>\n",
       "      <td>product</td>\n",
       "      <td>3847.0</td>\n",
       "      <td>1</td>\n",
       "      <td>24.2</td>\n",
       "      <td>0</td>\n",
       "      <td>outofstock</td>\n",
       "      <td>both</td>\n",
       "    </tr>\n",
       "    <tr>\n",
       "      <th>2</th>\n",
       "      <td>15296</td>\n",
       "      <td>0.0</td>\n",
       "      <td>Pierre Jean Villa Saint-Joseph Rouge Tildé 2017</td>\n",
       "      <td>pierre-jean-villa-saint-joseph-tilde-2017</td>\n",
       "      <td>product</td>\n",
       "      <td>3849.0</td>\n",
       "      <td>1</td>\n",
       "      <td>34.3</td>\n",
       "      <td>0</td>\n",
       "      <td>outofstock</td>\n",
       "      <td>both</td>\n",
       "    </tr>\n",
       "    <tr>\n",
       "      <th>3</th>\n",
       "      <td>15300</td>\n",
       "      <td>0.0</td>\n",
       "      <td>Pierre Jean Villa Crozes-Hermitage Accroche Co...</td>\n",
       "      <td>pierre-jean-villa-croze-hermitage-accroche-coe...</td>\n",
       "      <td>product</td>\n",
       "      <td>3850.0</td>\n",
       "      <td>1</td>\n",
       "      <td>20.8</td>\n",
       "      <td>0</td>\n",
       "      <td>outofstock</td>\n",
       "      <td>both</td>\n",
       "    </tr>\n",
       "    <tr>\n",
       "      <th>4</th>\n",
       "      <td>19814</td>\n",
       "      <td>3.0</td>\n",
       "      <td>Pierre Jean Villa IGP Collines Rhodaniennes Ga...</td>\n",
       "      <td>pierre-jean-villa-igp-gamine-2018</td>\n",
       "      <td>product</td>\n",
       "      <td>4032.0</td>\n",
       "      <td>1</td>\n",
       "      <td>14.1</td>\n",
       "      <td>0</td>\n",
       "      <td>outofstock</td>\n",
       "      <td>both</td>\n",
       "    </tr>\n",
       "    <tr>\n",
       "      <th>...</th>\n",
       "      <td>...</td>\n",
       "      <td>...</td>\n",
       "      <td>...</td>\n",
       "      <td>...</td>\n",
       "      <td>...</td>\n",
       "      <td>...</td>\n",
       "      <td>...</td>\n",
       "      <td>...</td>\n",
       "      <td>...</td>\n",
       "      <td>...</td>\n",
       "      <td>...</td>\n",
       "    </tr>\n",
       "    <tr>\n",
       "      <th>709</th>\n",
       "      <td>16135</td>\n",
       "      <td>5.0</td>\n",
       "      <td>Mouthes Le Bihan Côtes de Duras L'Aimé Chai 2015</td>\n",
       "      <td>mouthes-le-bihan-aime-chai-2015</td>\n",
       "      <td>product</td>\n",
       "      <td>6930.0</td>\n",
       "      <td>1</td>\n",
       "      <td>8.4</td>\n",
       "      <td>83</td>\n",
       "      <td>instock</td>\n",
       "      <td>both</td>\n",
       "    </tr>\n",
       "    <tr>\n",
       "      <th>710</th>\n",
       "      <td>15891</td>\n",
       "      <td>0.0</td>\n",
       "      <td>Camin Larredya Jurançon Sec La Virada 2018</td>\n",
       "      <td>camin-larredya-jurancon-sec-la-virada-2018</td>\n",
       "      <td>product</td>\n",
       "      <td>7023.0</td>\n",
       "      <td>1</td>\n",
       "      <td>27.5</td>\n",
       "      <td>15</td>\n",
       "      <td>instock</td>\n",
       "      <td>both</td>\n",
       "    </tr>\n",
       "    <tr>\n",
       "      <th>711</th>\n",
       "      <td>15887</td>\n",
       "      <td>0.0</td>\n",
       "      <td>Domaine Jamet Côte Rôtie Fructus Voluptas 2018</td>\n",
       "      <td>jamet-cote-rotie-fructus-voluptas-2018</td>\n",
       "      <td>product</td>\n",
       "      <td>7025.0</td>\n",
       "      <td>1</td>\n",
       "      <td>69.0</td>\n",
       "      <td>2</td>\n",
       "      <td>instock</td>\n",
       "      <td>both</td>\n",
       "    </tr>\n",
       "    <tr>\n",
       "      <th>712</th>\n",
       "      <td>13127-1</td>\n",
       "      <td>0.0</td>\n",
       "      <td>Clos du Mont-Olivet Châteauneuf-du-Pape 2007</td>\n",
       "      <td>clos-du-mont-olivet-chateauneuf-du-pape-2007-2</td>\n",
       "      <td>product</td>\n",
       "      <td>7247.0</td>\n",
       "      <td>1</td>\n",
       "      <td>54.8</td>\n",
       "      <td>23</td>\n",
       "      <td>instock</td>\n",
       "      <td>both</td>\n",
       "    </tr>\n",
       "    <tr>\n",
       "      <th>713</th>\n",
       "      <td>16230</td>\n",
       "      <td>0.0</td>\n",
       "      <td>Domaine Saint-Nicolas Vin de France Blanc Les ...</td>\n",
       "      <td>domaine-saint-nicolas-fiefs-vendeens-blanc-les...</td>\n",
       "      <td>product</td>\n",
       "      <td>7338.0</td>\n",
       "      <td>1</td>\n",
       "      <td>16.3</td>\n",
       "      <td>45</td>\n",
       "      <td>instock</td>\n",
       "      <td>both</td>\n",
       "    </tr>\n",
       "  </tbody>\n",
       "</table>\n",
       "<p>714 rows × 11 columns</p>\n",
       "</div>"
      ],
      "text/plain": [
       "                  id_web  total_sales  \\\n",
       "0    bon-cadeau-25-euros         10.0   \n",
       "1                  15298          6.0   \n",
       "2                  15296          0.0   \n",
       "3                  15300          0.0   \n",
       "4                  19814          3.0   \n",
       "..                   ...          ...   \n",
       "709                16135          5.0   \n",
       "710                15891          0.0   \n",
       "711                15887          0.0   \n",
       "712              13127-1          0.0   \n",
       "713                16230          0.0   \n",
       "\n",
       "                                            post_title  \\\n",
       "0                                    Bon cadeau de 25€   \n",
       "1          Pierre Jean Villa Saint-Joseph Préface 2018   \n",
       "2      Pierre Jean Villa Saint-Joseph Rouge Tildé 2017   \n",
       "3    Pierre Jean Villa Crozes-Hermitage Accroche Co...   \n",
       "4    Pierre Jean Villa IGP Collines Rhodaniennes Ga...   \n",
       "..                                                 ...   \n",
       "709   Mouthes Le Bihan Côtes de Duras L'Aimé Chai 2015   \n",
       "710         Camin Larredya Jurançon Sec La Virada 2018   \n",
       "711     Domaine Jamet Côte Rôtie Fructus Voluptas 2018   \n",
       "712       Clos du Mont-Olivet Châteauneuf-du-Pape 2007   \n",
       "713  Domaine Saint-Nicolas Vin de France Blanc Les ...   \n",
       "\n",
       "                                             post_name post_type  product_id  \\\n",
       "0                               bon-cadeau-de-25-euros   product      4954.0   \n",
       "1          pierre-jean-villa-saint-joseph-preface-2018   product      3847.0   \n",
       "2            pierre-jean-villa-saint-joseph-tilde-2017   product      3849.0   \n",
       "3    pierre-jean-villa-croze-hermitage-accroche-coe...   product      3850.0   \n",
       "4                    pierre-jean-villa-igp-gamine-2018   product      4032.0   \n",
       "..                                                 ...       ...         ...   \n",
       "709                    mouthes-le-bihan-aime-chai-2015   product      6930.0   \n",
       "710         camin-larredya-jurancon-sec-la-virada-2018   product      7023.0   \n",
       "711             jamet-cote-rotie-fructus-voluptas-2018   product      7025.0   \n",
       "712     clos-du-mont-olivet-chateauneuf-du-pape-2007-2   product      7247.0   \n",
       "713  domaine-saint-nicolas-fiefs-vendeens-blanc-les...   product      7338.0   \n",
       "\n",
       "     onsale_web  price  stock_quantity stock_status _merge  \n",
       "0             1   25.0               0      instock   both  \n",
       "1             1   24.2               0   outofstock   both  \n",
       "2             1   34.3               0   outofstock   both  \n",
       "3             1   20.8               0   outofstock   both  \n",
       "4             1   14.1               0   outofstock   both  \n",
       "..          ...    ...             ...          ...    ...  \n",
       "709           1    8.4              83      instock   both  \n",
       "710           1   27.5              15      instock   both  \n",
       "711           1   69.0               2      instock   both  \n",
       "712           1   54.8              23      instock   both  \n",
       "713           1   16.3              45      instock   both  \n",
       "\n",
       "[714 rows x 11 columns]"
      ]
     },
     "execution_count": 29,
     "metadata": {},
     "output_type": "execute_result"
    }
   ],
   "source": [
    "df_total = pd.merge(df1,erp,on='product_id', how='left', indicator=True)\n",
    "df_total"
   ]
  },
  {
   "cell_type": "markdown",
   "id": "f2bd2af7",
   "metadata": {},
   "source": [
    "### vérification si toutes les ventes sont des ventes web"
   ]
  },
  {
   "cell_type": "code",
   "execution_count": 30,
   "id": "4e00432b",
   "metadata": {},
   "outputs": [
    {
     "data": {
      "text/plain": [
       "714"
      ]
     },
     "execution_count": 30,
     "metadata": {},
     "output_type": "execute_result"
    }
   ],
   "source": [
    "web = (df_total['onsale_web']==1).sum()\n",
    "web"
   ]
  },
  {
   "cell_type": "markdown",
   "id": "a386bf12",
   "metadata": {},
   "source": [
    "# Question 2: calcul du chiffre d'affaires par produit et total"
   ]
  },
  {
   "cell_type": "markdown",
   "id": "40a552f7",
   "metadata": {},
   "source": [
    "### création de la colonne chiffre d'affaires par produit"
   ]
  },
  {
   "cell_type": "code",
   "execution_count": 31,
   "id": "a406326a",
   "metadata": {
    "scrolled": false
   },
   "outputs": [
    {
     "data": {
      "text/html": [
       "<div>\n",
       "<style scoped>\n",
       "    .dataframe tbody tr th:only-of-type {\n",
       "        vertical-align: middle;\n",
       "    }\n",
       "\n",
       "    .dataframe tbody tr th {\n",
       "        vertical-align: top;\n",
       "    }\n",
       "\n",
       "    .dataframe thead th {\n",
       "        text-align: right;\n",
       "    }\n",
       "</style>\n",
       "<table border=\"1\" class=\"dataframe\">\n",
       "  <thead>\n",
       "    <tr style=\"text-align: right;\">\n",
       "      <th></th>\n",
       "      <th>id_web</th>\n",
       "      <th>total_sales</th>\n",
       "      <th>post_title</th>\n",
       "      <th>product_id</th>\n",
       "      <th>price</th>\n",
       "      <th>CA par produit</th>\n",
       "    </tr>\n",
       "  </thead>\n",
       "  <tbody>\n",
       "    <tr>\n",
       "      <th>0</th>\n",
       "      <td>bon-cadeau-25-euros</td>\n",
       "      <td>10.0</td>\n",
       "      <td>Bon cadeau de 25€</td>\n",
       "      <td>4954.0</td>\n",
       "      <td>25.0</td>\n",
       "      <td>250.0</td>\n",
       "    </tr>\n",
       "    <tr>\n",
       "      <th>1</th>\n",
       "      <td>15298</td>\n",
       "      <td>6.0</td>\n",
       "      <td>Pierre Jean Villa Saint-Joseph Préface 2018</td>\n",
       "      <td>3847.0</td>\n",
       "      <td>24.2</td>\n",
       "      <td>145.2</td>\n",
       "    </tr>\n",
       "    <tr>\n",
       "      <th>2</th>\n",
       "      <td>15296</td>\n",
       "      <td>0.0</td>\n",
       "      <td>Pierre Jean Villa Saint-Joseph Rouge Tildé 2017</td>\n",
       "      <td>3849.0</td>\n",
       "      <td>34.3</td>\n",
       "      <td>0.0</td>\n",
       "    </tr>\n",
       "    <tr>\n",
       "      <th>3</th>\n",
       "      <td>15300</td>\n",
       "      <td>0.0</td>\n",
       "      <td>Pierre Jean Villa Crozes-Hermitage Accroche Co...</td>\n",
       "      <td>3850.0</td>\n",
       "      <td>20.8</td>\n",
       "      <td>0.0</td>\n",
       "    </tr>\n",
       "    <tr>\n",
       "      <th>4</th>\n",
       "      <td>19814</td>\n",
       "      <td>3.0</td>\n",
       "      <td>Pierre Jean Villa IGP Collines Rhodaniennes Ga...</td>\n",
       "      <td>4032.0</td>\n",
       "      <td>14.1</td>\n",
       "      <td>42.3</td>\n",
       "    </tr>\n",
       "  </tbody>\n",
       "</table>\n",
       "</div>"
      ],
      "text/plain": [
       "                id_web  total_sales  \\\n",
       "0  bon-cadeau-25-euros         10.0   \n",
       "1                15298          6.0   \n",
       "2                15296          0.0   \n",
       "3                15300          0.0   \n",
       "4                19814          3.0   \n",
       "\n",
       "                                          post_title  product_id  price  \\\n",
       "0                                  Bon cadeau de 25€      4954.0   25.0   \n",
       "1        Pierre Jean Villa Saint-Joseph Préface 2018      3847.0   24.2   \n",
       "2    Pierre Jean Villa Saint-Joseph Rouge Tildé 2017      3849.0   34.3   \n",
       "3  Pierre Jean Villa Crozes-Hermitage Accroche Co...      3850.0   20.8   \n",
       "4  Pierre Jean Villa IGP Collines Rhodaniennes Ga...      4032.0   14.1   \n",
       "\n",
       "   CA par produit  \n",
       "0           250.0  \n",
       "1           145.2  \n",
       "2             0.0  \n",
       "3             0.0  \n",
       "4            42.3  "
      ]
     },
     "execution_count": 31,
     "metadata": {},
     "output_type": "execute_result"
    }
   ],
   "source": [
    "df_total['CA par produit']= df_total['total_sales']*df_total['price']\n",
    "df_total[['id_web','total_sales','post_title','product_id','price','CA par produit']].head()"
   ]
  },
  {
   "cell_type": "markdown",
   "id": "67e2c95b",
   "metadata": {},
   "source": [
    "### calcul du chiffre d'affaires total"
   ]
  },
  {
   "cell_type": "code",
   "execution_count": 32,
   "id": "dc48f7cb",
   "metadata": {},
   "outputs": [
    {
     "name": "stdout",
     "output_type": "stream",
     "text": [
      "Le chiffre d_affaires total est de 70568.6 euros\n"
     ]
    }
   ],
   "source": [
    "CA_total = df_total['CA par produit'].sum()\n",
    "print('Le chiffre d_affaires total est de',CA_total,'euros')"
   ]
  },
  {
   "cell_type": "code",
   "execution_count": 33,
   "id": "5e5e88fb",
   "metadata": {},
   "outputs": [
    {
     "data": {
      "text/html": [
       "<div>\n",
       "<style scoped>\n",
       "    .dataframe tbody tr th:only-of-type {\n",
       "        vertical-align: middle;\n",
       "    }\n",
       "\n",
       "    .dataframe tbody tr th {\n",
       "        vertical-align: top;\n",
       "    }\n",
       "\n",
       "    .dataframe thead th {\n",
       "        text-align: right;\n",
       "    }\n",
       "</style>\n",
       "<table border=\"1\" class=\"dataframe\">\n",
       "  <thead>\n",
       "    <tr style=\"text-align: right;\">\n",
       "      <th></th>\n",
       "      <th>total_sales</th>\n",
       "      <th>product_id</th>\n",
       "      <th>onsale_web</th>\n",
       "      <th>price</th>\n",
       "      <th>stock_quantity</th>\n",
       "      <th>CA par produit</th>\n",
       "    </tr>\n",
       "  </thead>\n",
       "  <tbody>\n",
       "    <tr>\n",
       "      <th>count</th>\n",
       "      <td>714.000000</td>\n",
       "      <td>714.000000</td>\n",
       "      <td>714.0</td>\n",
       "      <td>714.000000</td>\n",
       "      <td>714.000000</td>\n",
       "      <td>714.000000</td>\n",
       "    </tr>\n",
       "    <tr>\n",
       "      <th>mean</th>\n",
       "      <td>4.012605</td>\n",
       "      <td>5032.557423</td>\n",
       "      <td>1.0</td>\n",
       "      <td>32.493137</td>\n",
       "      <td>28.746499</td>\n",
       "      <td>98.835574</td>\n",
       "    </tr>\n",
       "    <tr>\n",
       "      <th>std</th>\n",
       "      <td>8.518183</td>\n",
       "      <td>790.510878</td>\n",
       "      <td>0.0</td>\n",
       "      <td>27.810525</td>\n",
       "      <td>48.012608</td>\n",
       "      <td>307.685071</td>\n",
       "    </tr>\n",
       "    <tr>\n",
       "      <th>min</th>\n",
       "      <td>0.000000</td>\n",
       "      <td>3847.000000</td>\n",
       "      <td>1.0</td>\n",
       "      <td>5.200000</td>\n",
       "      <td>0.000000</td>\n",
       "      <td>0.000000</td>\n",
       "    </tr>\n",
       "    <tr>\n",
       "      <th>25%</th>\n",
       "      <td>0.000000</td>\n",
       "      <td>4280.250000</td>\n",
       "      <td>1.0</td>\n",
       "      <td>14.100000</td>\n",
       "      <td>2.000000</td>\n",
       "      <td>0.000000</td>\n",
       "    </tr>\n",
       "    <tr>\n",
       "      <th>50%</th>\n",
       "      <td>1.000000</td>\n",
       "      <td>4796.000000</td>\n",
       "      <td>1.0</td>\n",
       "      <td>23.550000</td>\n",
       "      <td>12.000000</td>\n",
       "      <td>15.250000</td>\n",
       "    </tr>\n",
       "    <tr>\n",
       "      <th>75%</th>\n",
       "      <td>4.000000</td>\n",
       "      <td>5710.500000</td>\n",
       "      <td>1.0</td>\n",
       "      <td>42.175000</td>\n",
       "      <td>35.000000</td>\n",
       "      <td>91.150000</td>\n",
       "    </tr>\n",
       "    <tr>\n",
       "      <th>max</th>\n",
       "      <td>96.000000</td>\n",
       "      <td>7338.000000</td>\n",
       "      <td>1.0</td>\n",
       "      <td>225.000000</td>\n",
       "      <td>578.000000</td>\n",
       "      <td>4704.000000</td>\n",
       "    </tr>\n",
       "  </tbody>\n",
       "</table>\n",
       "</div>"
      ],
      "text/plain": [
       "       total_sales   product_id  onsale_web       price  stock_quantity  \\\n",
       "count   714.000000   714.000000       714.0  714.000000      714.000000   \n",
       "mean      4.012605  5032.557423         1.0   32.493137       28.746499   \n",
       "std       8.518183   790.510878         0.0   27.810525       48.012608   \n",
       "min       0.000000  3847.000000         1.0    5.200000        0.000000   \n",
       "25%       0.000000  4280.250000         1.0   14.100000        2.000000   \n",
       "50%       1.000000  4796.000000         1.0   23.550000       12.000000   \n",
       "75%       4.000000  5710.500000         1.0   42.175000       35.000000   \n",
       "max      96.000000  7338.000000         1.0  225.000000      578.000000   \n",
       "\n",
       "       CA par produit  \n",
       "count      714.000000  \n",
       "mean        98.835574  \n",
       "std        307.685071  \n",
       "min          0.000000  \n",
       "25%          0.000000  \n",
       "50%         15.250000  \n",
       "75%         91.150000  \n",
       "max       4704.000000  "
      ]
     },
     "execution_count": 33,
     "metadata": {},
     "output_type": "execute_result"
    }
   ],
   "source": [
    "df_total.describe()"
   ]
  },
  {
   "cell_type": "markdown",
   "id": "d395cdd3",
   "metadata": {},
   "source": [
    "### calcul de l'écart interquartile et de la limite haute"
   ]
  },
  {
   "cell_type": "code",
   "execution_count": 34,
   "id": "62a8645b",
   "metadata": {
    "scrolled": true
   },
   "outputs": [
    {
     "name": "stdout",
     "output_type": "stream",
     "text": [
      "l_écart interquartile est de 28.1\n",
      "la limite haute est 84.4 euros\n"
     ]
    }
   ],
   "source": [
    "\n",
    "Q3= round(np.quantile(df_total['price'], 0.75),1)\n",
    "Q2 =round(np.quantile(df_total['price'], 0.50),1)\n",
    "Q1 = round(np.quantile(df_total['price'], 0.25),1)\n",
    "IQR = round(Q3 - Q1,1)\n",
    "print('l_écart interquartile est de',IQR)\n",
    "limite_haute = round(Q3 + 1.5 * IQR,1)\n",
    "print('la limite haute est',limite_haute,'euros')"
   ]
  },
  {
   "cell_type": "markdown",
   "id": "967d9a6d",
   "metadata": {},
   "source": [
    "### création d'une colonne zscore en fonction de la colonne 'price'"
   ]
  },
  {
   "cell_type": "code",
   "execution_count": 35,
   "id": "5fe40f5a",
   "metadata": {},
   "outputs": [
    {
     "data": {
      "text/html": [
       "<div>\n",
       "<style scoped>\n",
       "    .dataframe tbody tr th:only-of-type {\n",
       "        vertical-align: middle;\n",
       "    }\n",
       "\n",
       "    .dataframe tbody tr th {\n",
       "        vertical-align: top;\n",
       "    }\n",
       "\n",
       "    .dataframe thead th {\n",
       "        text-align: right;\n",
       "    }\n",
       "</style>\n",
       "<table border=\"1\" class=\"dataframe\">\n",
       "  <thead>\n",
       "    <tr style=\"text-align: right;\">\n",
       "      <th></th>\n",
       "      <th>id_web</th>\n",
       "      <th>total_sales</th>\n",
       "      <th>post_title</th>\n",
       "      <th>post_name</th>\n",
       "      <th>post_type</th>\n",
       "      <th>product_id</th>\n",
       "      <th>onsale_web</th>\n",
       "      <th>price</th>\n",
       "      <th>stock_quantity</th>\n",
       "      <th>stock_status</th>\n",
       "      <th>_merge</th>\n",
       "      <th>CA par produit</th>\n",
       "      <th>zscore</th>\n",
       "    </tr>\n",
       "  </thead>\n",
       "  <tbody>\n",
       "    <tr>\n",
       "      <th>0</th>\n",
       "      <td>bon-cadeau-25-euros</td>\n",
       "      <td>10.0</td>\n",
       "      <td>Bon cadeau de 25€</td>\n",
       "      <td>bon-cadeau-de-25-euros</td>\n",
       "      <td>product</td>\n",
       "      <td>4954.0</td>\n",
       "      <td>1</td>\n",
       "      <td>25.0</td>\n",
       "      <td>0</td>\n",
       "      <td>instock</td>\n",
       "      <td>both</td>\n",
       "      <td>250.0</td>\n",
       "      <td>-0.269624</td>\n",
       "    </tr>\n",
       "    <tr>\n",
       "      <th>1</th>\n",
       "      <td>15298</td>\n",
       "      <td>6.0</td>\n",
       "      <td>Pierre Jean Villa Saint-Joseph Préface 2018</td>\n",
       "      <td>pierre-jean-villa-saint-joseph-preface-2018</td>\n",
       "      <td>product</td>\n",
       "      <td>3847.0</td>\n",
       "      <td>1</td>\n",
       "      <td>24.2</td>\n",
       "      <td>0</td>\n",
       "      <td>outofstock</td>\n",
       "      <td>both</td>\n",
       "      <td>145.2</td>\n",
       "      <td>-0.298410</td>\n",
       "    </tr>\n",
       "    <tr>\n",
       "      <th>2</th>\n",
       "      <td>15296</td>\n",
       "      <td>0.0</td>\n",
       "      <td>Pierre Jean Villa Saint-Joseph Rouge Tildé 2017</td>\n",
       "      <td>pierre-jean-villa-saint-joseph-tilde-2017</td>\n",
       "      <td>product</td>\n",
       "      <td>3849.0</td>\n",
       "      <td>1</td>\n",
       "      <td>34.3</td>\n",
       "      <td>0</td>\n",
       "      <td>outofstock</td>\n",
       "      <td>both</td>\n",
       "      <td>0.0</td>\n",
       "      <td>0.065016</td>\n",
       "    </tr>\n",
       "    <tr>\n",
       "      <th>3</th>\n",
       "      <td>15300</td>\n",
       "      <td>0.0</td>\n",
       "      <td>Pierre Jean Villa Crozes-Hermitage Accroche Co...</td>\n",
       "      <td>pierre-jean-villa-croze-hermitage-accroche-coe...</td>\n",
       "      <td>product</td>\n",
       "      <td>3850.0</td>\n",
       "      <td>1</td>\n",
       "      <td>20.8</td>\n",
       "      <td>0</td>\n",
       "      <td>outofstock</td>\n",
       "      <td>both</td>\n",
       "      <td>0.0</td>\n",
       "      <td>-0.420752</td>\n",
       "    </tr>\n",
       "    <tr>\n",
       "      <th>4</th>\n",
       "      <td>19814</td>\n",
       "      <td>3.0</td>\n",
       "      <td>Pierre Jean Villa IGP Collines Rhodaniennes Ga...</td>\n",
       "      <td>pierre-jean-villa-igp-gamine-2018</td>\n",
       "      <td>product</td>\n",
       "      <td>4032.0</td>\n",
       "      <td>1</td>\n",
       "      <td>14.1</td>\n",
       "      <td>0</td>\n",
       "      <td>outofstock</td>\n",
       "      <td>both</td>\n",
       "      <td>42.3</td>\n",
       "      <td>-0.661837</td>\n",
       "    </tr>\n",
       "  </tbody>\n",
       "</table>\n",
       "</div>"
      ],
      "text/plain": [
       "                id_web  total_sales  \\\n",
       "0  bon-cadeau-25-euros         10.0   \n",
       "1                15298          6.0   \n",
       "2                15296          0.0   \n",
       "3                15300          0.0   \n",
       "4                19814          3.0   \n",
       "\n",
       "                                          post_title  \\\n",
       "0                                  Bon cadeau de 25€   \n",
       "1        Pierre Jean Villa Saint-Joseph Préface 2018   \n",
       "2    Pierre Jean Villa Saint-Joseph Rouge Tildé 2017   \n",
       "3  Pierre Jean Villa Crozes-Hermitage Accroche Co...   \n",
       "4  Pierre Jean Villa IGP Collines Rhodaniennes Ga...   \n",
       "\n",
       "                                           post_name post_type  product_id  \\\n",
       "0                             bon-cadeau-de-25-euros   product      4954.0   \n",
       "1        pierre-jean-villa-saint-joseph-preface-2018   product      3847.0   \n",
       "2          pierre-jean-villa-saint-joseph-tilde-2017   product      3849.0   \n",
       "3  pierre-jean-villa-croze-hermitage-accroche-coe...   product      3850.0   \n",
       "4                  pierre-jean-villa-igp-gamine-2018   product      4032.0   \n",
       "\n",
       "   onsale_web  price  stock_quantity stock_status _merge  CA par produit  \\\n",
       "0           1   25.0               0      instock   both           250.0   \n",
       "1           1   24.2               0   outofstock   both           145.2   \n",
       "2           1   34.3               0   outofstock   both             0.0   \n",
       "3           1   20.8               0   outofstock   both             0.0   \n",
       "4           1   14.1               0   outofstock   both            42.3   \n",
       "\n",
       "     zscore  \n",
       "0 -0.269624  \n",
       "1 -0.298410  \n",
       "2  0.065016  \n",
       "3 -0.420752  \n",
       "4 -0.661837  "
      ]
     },
     "execution_count": 35,
     "metadata": {},
     "output_type": "execute_result"
    }
   ],
   "source": [
    "df_total['zscore'] = stats.zscore(df_total['price'])\n",
    "df_total.head()"
   ]
  },
  {
   "cell_type": "markdown",
   "id": "7bcedf2c",
   "metadata": {},
   "source": [
    "### calcul de la valeur absolue du coefficiant de variation "
   ]
  },
  {
   "cell_type": "code",
   "execution_count": 36,
   "id": "b19ff27d",
   "metadata": {},
   "outputs": [
    {
     "name": "stdout",
     "output_type": "stream",
     "text": [
      "85.59 %\n"
     ]
    }
   ],
   "source": [
    "cv = round(df_total['price'].std()/df_total['price'].mean()*100,2)\n",
    "print(cv,'%')"
   ]
  },
  {
   "cell_type": "markdown",
   "id": "70dbe7aa",
   "metadata": {},
   "source": [
    "### calcul de la limite haute en fonction du coefficiant de variation "
   ]
  },
  {
   "cell_type": "code",
   "execution_count": 61,
   "id": "0c4cf1b2",
   "metadata": {},
   "outputs": [
    {
     "name": "stdout",
     "output_type": "stream",
     "text": [
      "la limite haute avec le calcul du zscore est ici de 92.8 euros\n"
     ]
    }
   ],
   "source": [
    "limite_haute_cv_zscore = round(df_total['price'].mean()*1.8559+df_total['price'].mean(),2)\n",
    "print('la limite haute avec le calcul du zscore est ici de',limite_haute_cv_zscore,'euros')"
   ]
  },
  {
   "cell_type": "markdown",
   "id": "9331b8b4",
   "metadata": {},
   "source": [
    "### calcul de l'écart type via le coefficant de variation"
   ]
  },
  {
   "cell_type": "code",
   "execution_count": 38,
   "id": "48e02d36",
   "metadata": {
    "scrolled": true
   },
   "outputs": [
    {
     "data": {
      "text/plain": [
       "2.17"
      ]
     },
     "execution_count": 38,
     "metadata": {},
     "output_type": "execute_result"
    }
   ],
   "source": [
    "round(df_total['price'].mean()*1.8559/df_total['price'].std(),2)"
   ]
  },
  {
   "cell_type": "markdown",
   "id": "02a4f770",
   "metadata": {},
   "source": [
    "# représentations graphiques"
   ]
  },
  {
   "cell_type": "markdown",
   "id": "15b19eeb",
   "metadata": {},
   "source": [
    "## nuage de points ou scatter plot"
   ]
  },
  {
   "cell_type": "code",
   "execution_count": 59,
   "id": "49ba0c9d",
   "metadata": {
    "scrolled": false
   },
   "outputs": [
    {
     "data": {
      "image/png": "[encoded data removed]",
      "text/plain": [
       "<Figure size 1296x720 with 1 Axes>"
      ]
     },
     "metadata": {
      "needs_background": "light"
     },
     "output_type": "display_data"
    }
   ],
   "source": [
    "\n",
    "outlier = df_total[(df_total['price'] > limite_haute)]\n",
    "other= df_total[(df_total['price'] < limite_haute)]\n",
    "plt.subplots(figsize = (18,10))\n",
    "plt.scatter(other['product_id'], other['price'])\n",
    "plt.scatter(outlier['product_id'], outlier['price'],c='red')\n",
    "plt.axhline(y=limite_haute_cv_zscore,color='red')\n",
    "plt.title('Scatterplot ou nuage de points',fontsize=14)\n",
    "plt.xlabel('identifiant produit')\n",
    "plt.ylabel('prix')\n",
    "plt.legend(('prix dans la limite','limite haute quartile','limite haute zscore'))\n",
    "plt.grid()\n",
    "plt.text(3480,limite_haute_cv_zscore,limite_haute_cv_zscore,color='red')\n",
    "plt.show()"
   ]
  },
  {
   "cell_type": "markdown",
   "id": "df6d2614",
   "metadata": {},
   "source": [
    "## boite à moustache ou boxplot"
   ]
  },
  {
   "cell_type": "code",
   "execution_count": 40,
   "id": "2b673067",
   "metadata": {
    "scrolled": false
   },
   "outputs": [
    {
     "data": {
      "image/png": "[encoded data removed]",
      "text/plain": [
       "<Figure size 1296x720 with 1 Axes>"
      ]
     },
     "metadata": {
      "needs_background": "light"
     },
     "output_type": "display_data"
    }
   ],
   "source": [
    "plt.figure(figsize=(18,10))\n",
    "plt.boxplot(df_total['price'],vert=0,patch_artist=True)\n",
    "plt.title('Boxplot ou boite à moustaches', fontsize=14)\n",
    "plt.axvline(x=limite_haute,color='green',label='limite haute quartile')\n",
    "plt.axvline(x=limite_haute_cv_zscore, color='red',label='limite haute zscore')\n",
    "plt.axvline(x=Q1,color='blue',linestyle='--',label='1er quartile Q1')\n",
    "plt.axvline(x=Q2,color='orange',linestyle='--',label='2eme quartile ou med')\n",
    "plt.axvline(x=Q3, color='magenta',linestyle='--',label='3eme quartile Q3')\n",
    "plt.text(Q1,0.45,Q1,color='blue')\n",
    "plt.text(Q2,0.48,Q2,color='orange')\n",
    "plt.text(Q3,0.45,Q3,color='magenta')\n",
    "plt.text(limite_haute,0.48,limite_haute,color='green')\n",
    "plt.text(limite_haute_cv_zscore,0.45,limite_haute_cv_zscore,color='red')\n",
    "plt.legend()\n",
    "plt.xlabel('price', fontsize= 14)\n",
    "\n",
    "plt.show()"
   ]
  },
  {
   "cell_type": "markdown",
   "id": "1909f884",
   "metadata": {},
   "source": [
    "### nombre d'outliers et leur index avec la méthode interquartile"
   ]
  },
  {
   "cell_type": "code",
   "execution_count": 41,
   "id": "1c54b7a2",
   "metadata": {
    "scrolled": false
   },
   "outputs": [
    {
     "name": "stdout",
     "output_type": "stream",
     "text": [
      "(array([ 64,  66, 200, 202, 206, 219, 220, 222, 223, 228, 381, 382, 426,\n",
      "       431, 432, 437, 438, 502, 511, 553, 587, 602, 603, 604, 642, 647,\n",
      "       648, 653, 654, 655, 656, 657], dtype=int64),)\n"
     ]
    },
    {
     "data": {
      "text/plain": [
       "32"
      ]
     },
     "execution_count": 41,
     "metadata": {},
     "output_type": "execute_result"
    }
   ],
   "source": [
    "print(np.where(df_total['price']>limite_haute))\n",
    "len(df_total[df_total['price']>limite_haute])"
   ]
  },
  {
   "cell_type": "markdown",
   "id": "f4a4e708",
   "metadata": {},
   "source": [
    "### nombre d'outliers et leur index avec le Zscore"
   ]
  },
  {
   "cell_type": "code",
   "execution_count": 42,
   "id": "e910faab",
   "metadata": {},
   "outputs": [
    {
     "name": "stdout",
     "output_type": "stream",
     "text": [
      "(array([ 64, 200, 202, 219, 220, 222, 223, 228, 381, 382, 426, 431, 432,\n",
      "       437, 511, 553, 587, 602, 603, 604, 642, 647, 648, 653, 654, 655,\n",
      "       656, 657], dtype=int64),)\n"
     ]
    },
    {
     "data": {
      "text/plain": [
       "28"
      ]
     },
     "execution_count": 42,
     "metadata": {},
     "output_type": "execute_result"
    }
   ],
   "source": [
    "\n",
    "print(np.where(df_total['zscore'] > 2.17))\n",
    "zscore = df_total.loc[df_total['zscore']>2.17]\n",
    "len(zscore)"
   ]
  },
  {
   "cell_type": "markdown",
   "id": "ee4a6c5f",
   "metadata": {},
   "source": [
    "### calcul du chiffre d'affaires que représente les possibles outliers avec méthode interquartile"
   ]
  },
  {
   "cell_type": "code",
   "execution_count": 43,
   "id": "7d59a27a",
   "metadata": {
    "scrolled": false
   },
   "outputs": [
    {
     "name": "stdout",
     "output_type": "stream",
     "text": [
      "le chiffre d_affaires que représente les outliers est de 6970.0 euros\n",
      "les outliers représentent 9.88 % du chiffre d_affaires total\n"
     ]
    },
    {
     "name": "stderr",
     "output_type": "stream",
     "text": [
      "C:\\Users\\tangu\\AppData\\Local\\Temp\\ipykernel_2668\\1584877922.py:1: FutureWarning: Dropping of nuisance columns in DataFrame reductions (with 'numeric_only=None') is deprecated; in a future version this will raise TypeError.  Select only valid columns before calling the reduction.\n",
      "  outlier_quartile = df_total.loc[df_total['price']>limite_haute].sum()\n"
     ]
    }
   ],
   "source": [
    "outlier_quartile = df_total.loc[df_total['price']>limite_haute].sum()\n",
    "print('le chiffre d_affaires que représente les outliers est de',outlier_quartile['CA par produit'],'euros')\n",
    "propo_outlier = round(outlier_quartile['CA par produit']*100/CA_total,2)\n",
    "print('les outliers représentent',propo_outlier,'%', 'du chiffre d_affaires total')"
   ]
  },
  {
   "cell_type": "markdown",
   "id": "72db5f79",
   "metadata": {},
   "source": [
    "### calcul du chiffre d'affaires que représentent les possibles outliers avec la méthode du zscore"
   ]
  },
  {
   "cell_type": "code",
   "execution_count": 44,
   "id": "4c4f2b7b",
   "metadata": {},
   "outputs": [
    {
     "name": "stdout",
     "output_type": "stream",
     "text": [
      "le chiffre d_affaires que représente les outliers est de 6884.4 euros\n",
      "les outliers représentent 9.76 % du chiffre d_affaires total\n"
     ]
    },
    {
     "name": "stderr",
     "output_type": "stream",
     "text": [
      "C:\\Users\\tangu\\AppData\\Local\\Temp\\ipykernel_2668\\527611460.py:1: FutureWarning: Dropping of nuisance columns in DataFrame reductions (with 'numeric_only=None') is deprecated; in a future version this will raise TypeError.  Select only valid columns before calling the reduction.\n",
      "  outlier_zscore = df_total.loc[df_total['price']>limite_haute_cv_zscore].sum()\n"
     ]
    }
   ],
   "source": [
    "outlier_zscore = df_total.loc[df_total['price']>limite_haute_cv_zscore].sum()\n",
    "print('le chiffre d_affaires que représente les outliers est de',outlier_zscore['CA par produit'],'euros')\n",
    "propo_outlier_zscore = round(outlier_zscore['CA par produit']*100/CA_total,2)\n",
    "print('les outliers représentent',propo_outlier_zscore,'%', 'du chiffre d_affaires total')"
   ]
  },
  {
   "cell_type": "code",
   "execution_count": null,
   "id": "e6f82f91",
   "metadata": {},
   "outputs": [],
   "source": []
  }
 ],
 "metadata": {
  "kernelspec": {
   "display_name": "Python 3 (ipykernel)",
   "language": "python",
   "name": "python3"
  },
  "language_info": {
   "codemirror_mode": {
    "name": "ipython",
    "version": 3
   },
   "file_extension": ".py",
   "mimetype": "text/x-python",
   "name": "python",
   "nbconvert_exporter": "python",
   "pygments_lexer": "ipython3",
   "version": "3.9.12"
  },
  "toc": {
   "base_numbering": 1,
   "nav_menu": {},
   "number_sections": false,
   "sideBar": true,
   "skip_h1_title": false,
   "title_cell": "Table of Contents",
   "title_sidebar": "Contents",
   "toc_cell": false,
   "toc_position": {},
   "toc_section_display": true,
   "toc_window_display": true
  }
 },
 "nbformat": 4,
 "nbformat_minor": 5
}
